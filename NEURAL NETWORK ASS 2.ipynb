{
 "cells": [
  {
   "cell_type": "code",
   "execution_count": 5,
   "id": "c145bd13",
   "metadata": {
    "ExecuteTime": {
     "end_time": "2022-01-07T11:52:08.909953Z",
     "start_time": "2022-01-07T11:52:08.867146Z"
    }
   },
   "outputs": [],
   "source": [
    "import pandas as pd \n",
    "import numpy as np \n",
    "import seaborn as sns \n",
    "import matplotlib.pyplot as plt \n",
    "from sklearn.preprocessing import StandardScaler\n",
    "import tensorflow\n",
    "from tensorflow.keras.models import Sequential \n",
    "from tensorflow.keras.layers import Dense"
   ]
  },
  {
   "cell_type": "code",
   "execution_count": 7,
   "id": "e886f7ca",
   "metadata": {
    "ExecuteTime": {
     "end_time": "2022-01-07T12:16:49.149413Z",
     "start_time": "2022-01-07T12:16:49.046337Z"
    }
   },
   "outputs": [
    {
     "data": {
      "text/html": [
       "<div>\n",
       "<style scoped>\n",
       "    .dataframe tbody tr th:only-of-type {\n",
       "        vertical-align: middle;\n",
       "    }\n",
       "\n",
       "    .dataframe tbody tr th {\n",
       "        vertical-align: top;\n",
       "    }\n",
       "\n",
       "    .dataframe thead th {\n",
       "        text-align: right;\n",
       "    }\n",
       "</style>\n",
       "<table border=\"1\" class=\"dataframe\">\n",
       "  <thead>\n",
       "    <tr style=\"text-align: right;\">\n",
       "      <th></th>\n",
       "      <th>AT</th>\n",
       "      <th>AP</th>\n",
       "      <th>AH</th>\n",
       "      <th>AFDP</th>\n",
       "      <th>GTEP</th>\n",
       "      <th>TIT</th>\n",
       "      <th>TAT</th>\n",
       "      <th>TEY</th>\n",
       "      <th>CDP</th>\n",
       "      <th>CO</th>\n",
       "      <th>NOX</th>\n",
       "    </tr>\n",
       "  </thead>\n",
       "  <tbody>\n",
       "    <tr>\n",
       "      <th>0</th>\n",
       "      <td>6.8594</td>\n",
       "      <td>1007.9</td>\n",
       "      <td>96.799</td>\n",
       "      <td>3.5000</td>\n",
       "      <td>19.663</td>\n",
       "      <td>1059.2</td>\n",
       "      <td>550.00</td>\n",
       "      <td>114.70</td>\n",
       "      <td>10.605</td>\n",
       "      <td>3.1547</td>\n",
       "      <td>82.722</td>\n",
       "    </tr>\n",
       "    <tr>\n",
       "      <th>1</th>\n",
       "      <td>6.7850</td>\n",
       "      <td>1008.4</td>\n",
       "      <td>97.118</td>\n",
       "      <td>3.4998</td>\n",
       "      <td>19.728</td>\n",
       "      <td>1059.3</td>\n",
       "      <td>550.00</td>\n",
       "      <td>114.72</td>\n",
       "      <td>10.598</td>\n",
       "      <td>3.2363</td>\n",
       "      <td>82.776</td>\n",
       "    </tr>\n",
       "    <tr>\n",
       "      <th>2</th>\n",
       "      <td>6.8977</td>\n",
       "      <td>1008.8</td>\n",
       "      <td>95.939</td>\n",
       "      <td>3.4824</td>\n",
       "      <td>19.779</td>\n",
       "      <td>1059.4</td>\n",
       "      <td>549.87</td>\n",
       "      <td>114.71</td>\n",
       "      <td>10.601</td>\n",
       "      <td>3.2012</td>\n",
       "      <td>82.468</td>\n",
       "    </tr>\n",
       "    <tr>\n",
       "      <th>3</th>\n",
       "      <td>7.0569</td>\n",
       "      <td>1009.2</td>\n",
       "      <td>95.249</td>\n",
       "      <td>3.4805</td>\n",
       "      <td>19.792</td>\n",
       "      <td>1059.6</td>\n",
       "      <td>549.99</td>\n",
       "      <td>114.72</td>\n",
       "      <td>10.606</td>\n",
       "      <td>3.1923</td>\n",
       "      <td>82.670</td>\n",
       "    </tr>\n",
       "    <tr>\n",
       "      <th>4</th>\n",
       "      <td>7.3978</td>\n",
       "      <td>1009.7</td>\n",
       "      <td>95.150</td>\n",
       "      <td>3.4976</td>\n",
       "      <td>19.765</td>\n",
       "      <td>1059.7</td>\n",
       "      <td>549.98</td>\n",
       "      <td>114.72</td>\n",
       "      <td>10.612</td>\n",
       "      <td>3.2484</td>\n",
       "      <td>82.311</td>\n",
       "    </tr>\n",
       "  </tbody>\n",
       "</table>\n",
       "</div>"
      ],
      "text/plain": [
       "       AT      AP      AH    AFDP    GTEP     TIT     TAT     TEY     CDP  \\\n",
       "0  6.8594  1007.9  96.799  3.5000  19.663  1059.2  550.00  114.70  10.605   \n",
       "1  6.7850  1008.4  97.118  3.4998  19.728  1059.3  550.00  114.72  10.598   \n",
       "2  6.8977  1008.8  95.939  3.4824  19.779  1059.4  549.87  114.71  10.601   \n",
       "3  7.0569  1009.2  95.249  3.4805  19.792  1059.6  549.99  114.72  10.606   \n",
       "4  7.3978  1009.7  95.150  3.4976  19.765  1059.7  549.98  114.72  10.612   \n",
       "\n",
       "       CO     NOX  \n",
       "0  3.1547  82.722  \n",
       "1  3.2363  82.776  \n",
       "2  3.2012  82.468  \n",
       "3  3.1923  82.670  \n",
       "4  3.2484  82.311  "
      ]
     },
     "execution_count": 7,
     "metadata": {},
     "output_type": "execute_result"
    }
   ],
   "source": [
    "data = pd.read_csv(\"gas_turbines.csv\")\n",
    "data.head()"
   ]
  },
  {
   "cell_type": "code",
   "execution_count": 8,
   "id": "796dac59",
   "metadata": {
    "ExecuteTime": {
     "end_time": "2022-01-07T12:18:10.099712Z",
     "start_time": "2022-01-07T12:18:10.091674Z"
    }
   },
   "outputs": [],
   "source": [
    "data = data.drop(['TIT','CDP'], axis=1)"
   ]
  },
  {
   "cell_type": "code",
   "execution_count": 9,
   "id": "5b53ee8e",
   "metadata": {
    "ExecuteTime": {
     "end_time": "2022-01-07T12:18:21.111739Z",
     "start_time": "2022-01-07T12:18:21.095405Z"
    }
   },
   "outputs": [
    {
     "data": {
      "text/plain": [
       "(15039, 9)"
      ]
     },
     "execution_count": 9,
     "metadata": {},
     "output_type": "execute_result"
    }
   ],
   "source": [
    "data.shape"
   ]
  },
  {
   "cell_type": "code",
   "execution_count": 10,
   "id": "3b0e0a0d",
   "metadata": {
    "ExecuteTime": {
     "end_time": "2022-01-07T12:18:32.489646Z",
     "start_time": "2022-01-07T12:18:32.448422Z"
    }
   },
   "outputs": [
    {
     "name": "stdout",
     "output_type": "stream",
     "text": [
      "<class 'pandas.core.frame.DataFrame'>\n",
      "RangeIndex: 15039 entries, 0 to 15038\n",
      "Data columns (total 9 columns):\n",
      " #   Column  Non-Null Count  Dtype  \n",
      "---  ------  --------------  -----  \n",
      " 0   AT      15039 non-null  float64\n",
      " 1   AP      15039 non-null  float64\n",
      " 2   AH      15039 non-null  float64\n",
      " 3   AFDP    15039 non-null  float64\n",
      " 4   GTEP    15039 non-null  float64\n",
      " 5   TAT     15039 non-null  float64\n",
      " 6   TEY     15039 non-null  float64\n",
      " 7   CO      15039 non-null  float64\n",
      " 8   NOX     15039 non-null  float64\n",
      "dtypes: float64(9)\n",
      "memory usage: 1.0 MB\n"
     ]
    }
   ],
   "source": [
    "data.info()"
   ]
  },
  {
   "cell_type": "code",
   "execution_count": 11,
   "id": "bd9a49a9",
   "metadata": {
    "ExecuteTime": {
     "end_time": "2022-01-07T12:18:39.247690Z",
     "start_time": "2022-01-07T12:18:39.133140Z"
    }
   },
   "outputs": [
    {
     "data": {
      "text/html": [
       "<div>\n",
       "<style scoped>\n",
       "    .dataframe tbody tr th:only-of-type {\n",
       "        vertical-align: middle;\n",
       "    }\n",
       "\n",
       "    .dataframe tbody tr th {\n",
       "        vertical-align: top;\n",
       "    }\n",
       "\n",
       "    .dataframe thead th {\n",
       "        text-align: right;\n",
       "    }\n",
       "</style>\n",
       "<table border=\"1\" class=\"dataframe\">\n",
       "  <thead>\n",
       "    <tr style=\"text-align: right;\">\n",
       "      <th></th>\n",
       "      <th>AT</th>\n",
       "      <th>AP</th>\n",
       "      <th>AH</th>\n",
       "      <th>AFDP</th>\n",
       "      <th>GTEP</th>\n",
       "      <th>TAT</th>\n",
       "      <th>TEY</th>\n",
       "      <th>CO</th>\n",
       "      <th>NOX</th>\n",
       "    </tr>\n",
       "  </thead>\n",
       "  <tbody>\n",
       "    <tr>\n",
       "      <th>count</th>\n",
       "      <td>15039.000000</td>\n",
       "      <td>15039.00000</td>\n",
       "      <td>15039.000000</td>\n",
       "      <td>15039.000000</td>\n",
       "      <td>15039.000000</td>\n",
       "      <td>15039.000000</td>\n",
       "      <td>15039.000000</td>\n",
       "      <td>15039.000000</td>\n",
       "      <td>15039.000000</td>\n",
       "    </tr>\n",
       "    <tr>\n",
       "      <th>mean</th>\n",
       "      <td>17.764381</td>\n",
       "      <td>1013.19924</td>\n",
       "      <td>79.124174</td>\n",
       "      <td>4.200294</td>\n",
       "      <td>25.419061</td>\n",
       "      <td>545.396183</td>\n",
       "      <td>134.188464</td>\n",
       "      <td>1.972499</td>\n",
       "      <td>68.190934</td>\n",
       "    </tr>\n",
       "    <tr>\n",
       "      <th>std</th>\n",
       "      <td>7.574323</td>\n",
       "      <td>6.41076</td>\n",
       "      <td>13.793439</td>\n",
       "      <td>0.760197</td>\n",
       "      <td>4.173916</td>\n",
       "      <td>7.866803</td>\n",
       "      <td>15.829717</td>\n",
       "      <td>2.222206</td>\n",
       "      <td>10.470586</td>\n",
       "    </tr>\n",
       "    <tr>\n",
       "      <th>min</th>\n",
       "      <td>0.522300</td>\n",
       "      <td>985.85000</td>\n",
       "      <td>30.344000</td>\n",
       "      <td>2.087400</td>\n",
       "      <td>17.878000</td>\n",
       "      <td>512.450000</td>\n",
       "      <td>100.170000</td>\n",
       "      <td>0.000388</td>\n",
       "      <td>27.765000</td>\n",
       "    </tr>\n",
       "    <tr>\n",
       "      <th>25%</th>\n",
       "      <td>11.408000</td>\n",
       "      <td>1008.90000</td>\n",
       "      <td>69.750000</td>\n",
       "      <td>3.723900</td>\n",
       "      <td>23.294000</td>\n",
       "      <td>542.170000</td>\n",
       "      <td>127.985000</td>\n",
       "      <td>0.858055</td>\n",
       "      <td>61.303500</td>\n",
       "    </tr>\n",
       "    <tr>\n",
       "      <th>50%</th>\n",
       "      <td>18.186000</td>\n",
       "      <td>1012.80000</td>\n",
       "      <td>82.266000</td>\n",
       "      <td>4.186200</td>\n",
       "      <td>25.082000</td>\n",
       "      <td>549.890000</td>\n",
       "      <td>133.780000</td>\n",
       "      <td>1.390200</td>\n",
       "      <td>66.601000</td>\n",
       "    </tr>\n",
       "    <tr>\n",
       "      <th>75%</th>\n",
       "      <td>23.862500</td>\n",
       "      <td>1016.90000</td>\n",
       "      <td>90.043500</td>\n",
       "      <td>4.550900</td>\n",
       "      <td>27.184000</td>\n",
       "      <td>550.060000</td>\n",
       "      <td>140.895000</td>\n",
       "      <td>2.160400</td>\n",
       "      <td>73.935500</td>\n",
       "    </tr>\n",
       "    <tr>\n",
       "      <th>max</th>\n",
       "      <td>34.929000</td>\n",
       "      <td>1034.20000</td>\n",
       "      <td>100.200000</td>\n",
       "      <td>7.610600</td>\n",
       "      <td>37.402000</td>\n",
       "      <td>550.610000</td>\n",
       "      <td>174.610000</td>\n",
       "      <td>44.103000</td>\n",
       "      <td>119.890000</td>\n",
       "    </tr>\n",
       "  </tbody>\n",
       "</table>\n",
       "</div>"
      ],
      "text/plain": [
       "                 AT           AP            AH          AFDP          GTEP  \\\n",
       "count  15039.000000  15039.00000  15039.000000  15039.000000  15039.000000   \n",
       "mean      17.764381   1013.19924     79.124174      4.200294     25.419061   \n",
       "std        7.574323      6.41076     13.793439      0.760197      4.173916   \n",
       "min        0.522300    985.85000     30.344000      2.087400     17.878000   \n",
       "25%       11.408000   1008.90000     69.750000      3.723900     23.294000   \n",
       "50%       18.186000   1012.80000     82.266000      4.186200     25.082000   \n",
       "75%       23.862500   1016.90000     90.043500      4.550900     27.184000   \n",
       "max       34.929000   1034.20000    100.200000      7.610600     37.402000   \n",
       "\n",
       "                TAT           TEY            CO           NOX  \n",
       "count  15039.000000  15039.000000  15039.000000  15039.000000  \n",
       "mean     545.396183    134.188464      1.972499     68.190934  \n",
       "std        7.866803     15.829717      2.222206     10.470586  \n",
       "min      512.450000    100.170000      0.000388     27.765000  \n",
       "25%      542.170000    127.985000      0.858055     61.303500  \n",
       "50%      549.890000    133.780000      1.390200     66.601000  \n",
       "75%      550.060000    140.895000      2.160400     73.935500  \n",
       "max      550.610000    174.610000     44.103000    119.890000  "
      ]
     },
     "execution_count": 11,
     "metadata": {},
     "output_type": "execute_result"
    }
   ],
   "source": [
    "data.describe()"
   ]
  },
  {
   "cell_type": "code",
   "execution_count": 12,
   "id": "4e9cb5f9",
   "metadata": {
    "ExecuteTime": {
     "end_time": "2022-01-07T12:19:06.574929Z",
     "start_time": "2022-01-07T12:19:06.554502Z"
    }
   },
   "outputs": [
    {
     "data": {
      "text/plain": [
       "AT      0\n",
       "AP      0\n",
       "AH      0\n",
       "AFDP    0\n",
       "GTEP    0\n",
       "TAT     0\n",
       "TEY     0\n",
       "CO      0\n",
       "NOX     0\n",
       "dtype: int64"
      ]
     },
     "execution_count": 12,
     "metadata": {},
     "output_type": "execute_result"
    }
   ],
   "source": [
    "data.isnull().sum()"
   ]
  },
  {
   "cell_type": "code",
   "execution_count": 13,
   "id": "44bf58fc",
   "metadata": {
    "ExecuteTime": {
     "end_time": "2022-01-07T12:19:42.706998Z",
     "start_time": "2022-01-07T12:19:42.658263Z"
    }
   },
   "outputs": [
    {
     "data": {
      "text/plain": [
       "(0, 9)"
      ]
     },
     "execution_count": 13,
     "metadata": {},
     "output_type": "execute_result"
    }
   ],
   "source": [
    "data[data.duplicated()].shape"
   ]
  },
  {
   "cell_type": "code",
   "execution_count": 14,
   "id": "f6b476fc",
   "metadata": {
    "ExecuteTime": {
     "end_time": "2022-01-07T12:20:09.328372Z",
     "start_time": "2022-01-07T12:20:09.309016Z"
    }
   },
   "outputs": [],
   "source": [
    "array = data.values\n"
   ]
  },
  {
   "cell_type": "code",
   "execution_count": null,
   "id": "fdbe0b5a",
   "metadata": {},
   "outputs": [],
   "source": []
  },
  {
   "cell_type": "code",
   "execution_count": 15,
   "id": "86773a3e",
   "metadata": {
    "ExecuteTime": {
     "end_time": "2022-01-07T12:21:05.345240Z",
     "start_time": "2022-01-07T12:21:05.322792Z"
    }
   },
   "outputs": [],
   "source": [
    "x = array[:,0:8]\n",
    "y = array[:,8]"
   ]
  },
  {
   "cell_type": "code",
   "execution_count": 17,
   "id": "dc449538",
   "metadata": {
    "ExecuteTime": {
     "end_time": "2022-01-07T12:24:27.845459Z",
     "start_time": "2022-01-07T12:24:27.773125Z"
    }
   },
   "outputs": [],
   "source": [
    "model = Sequential()\n",
    "model.add(Dense(30,input_dim=8,activation = 'relu'))\n",
    "model.add(Dense(15,activation='relu'))\n",
    "model.add(Dense(1, activation='sigmoid'))"
   ]
  },
  {
   "cell_type": "code",
   "execution_count": 18,
   "id": "2a2875e7",
   "metadata": {
    "ExecuteTime": {
     "end_time": "2022-01-07T12:26:38.006330Z",
     "start_time": "2022-01-07T12:26:37.977143Z"
    }
   },
   "outputs": [],
   "source": [
    "model.compile(loss='binary_crossentropy', optimizer='adam',metrics=['mean_squared_error'])\n",
    "\n"
   ]
  },
  {
   "cell_type": "code",
   "execution_count": 19,
   "id": "dbd5e613",
   "metadata": {
    "ExecuteTime": {
     "end_time": "2022-01-07T12:42:20.349355Z",
     "start_time": "2022-01-07T12:28:05.229440Z"
    }
   },
   "outputs": [
    {
     "name": "stdout",
     "output_type": "stream",
     "text": [
      "Epoch 1/250\n",
      "1008/1008 [==============================] - 5s 4ms/step - loss: -28060790.0000 - mean_squared_error: 4812.4424 - val_loss: -102489536.0000 - val_mean_squared_error: 4242.1772\n",
      "Epoch 2/250\n",
      "1008/1008 [==============================] - 4s 4ms/step - loss: -366209280.0000 - mean_squared_error: 4812.4390 - val_loss: -685249216.0000 - val_mean_squared_error: 4242.1772\n",
      "Epoch 3/250\n",
      "1008/1008 [==============================] - 4s 4ms/step - loss: -1346165888.0000 - mean_squared_error: 4812.4424 - val_loss: -1956423552.0000 - val_mean_squared_error: 4242.1772\n",
      "Epoch 4/250\n",
      "1008/1008 [==============================] - 3s 3ms/step - loss: -3120996352.0000 - mean_squared_error: 4812.4365 - val_loss: -4017084672.0000 - val_mean_squared_error: 4242.1772\n",
      "Epoch 5/250\n",
      "1008/1008 [==============================] - 3s 3ms/step - loss: -5787750912.0000 - mean_squared_error: 4812.4351 - val_loss: -6954599936.0000 - val_mean_squared_error: 4242.1772\n",
      "Epoch 6/250\n",
      "1008/1008 [==============================] - 4s 4ms/step - loss: -9439453184.0000 - mean_squared_error: 4812.4341 - val_loss: -10853585920.0000 - val_mean_squared_error: 4242.1772\n",
      "Epoch 7/250\n",
      "1008/1008 [==============================] - 3s 3ms/step - loss: -14162709504.0000 - mean_squared_error: 4812.4355 - val_loss: -15798045696.0000 - val_mean_squared_error: 4242.1772\n",
      "Epoch 8/250\n",
      "1008/1008 [==============================] - 4s 4ms/step - loss: -20056827904.0000 - mean_squared_error: 4812.4355 - val_loss: -21881006080.0000 - val_mean_squared_error: 4242.1772\n",
      "Epoch 9/250\n",
      "1008/1008 [==============================] - 4s 4ms/step - loss: -27213398016.0000 - mean_squared_error: 4812.4380 - val_loss: -29188376576.0000 - val_mean_squared_error: 4242.1772\n",
      "Epoch 10/250\n",
      "1008/1008 [==============================] - 4s 4ms/step - loss: -35726479360.0000 - mean_squared_error: 4812.4365 - val_loss: -37804171264.0000 - val_mean_squared_error: 4242.1772\n",
      "Epoch 11/250\n",
      "1008/1008 [==============================] - 3s 3ms/step - loss: -45699121152.0000 - mean_squared_error: 4812.4385 - val_loss: -47833538560.0000 - val_mean_squared_error: 4242.1772\n",
      "Epoch 12/250\n",
      "1008/1008 [==============================] - 4s 4ms/step - loss: -57225977856.0000 - mean_squared_error: 4812.4385 - val_loss: -59359899648.0000 - val_mean_squared_error: 4242.1772\n",
      "Epoch 13/250\n",
      "1008/1008 [==============================] - 3s 3ms/step - loss: -70403981312.0000 - mean_squared_error: 4812.4375 - val_loss: -72471699456.0000 - val_mean_squared_error: 4242.1772\n",
      "Epoch 14/250\n",
      "1008/1008 [==============================] - 4s 4ms/step - loss: -85323456512.0000 - mean_squared_error: 4812.4365 - val_loss: -87254237184.0000 - val_mean_squared_error: 4242.1772\n",
      "Epoch 15/250\n",
      "1008/1008 [==============================] - 3s 3ms/step - loss: -102086172672.0000 - mean_squared_error: 4812.4380 - val_loss: -103801487360.0000 - val_mean_squared_error: 4242.1772\n",
      "Epoch 16/250\n",
      "1008/1008 [==============================] - 3s 3ms/step - loss: -120772886528.0000 - mean_squared_error: 4812.4365 - val_loss: -122187243520.0000 - val_mean_squared_error: 4242.1772\n",
      "Epoch 17/250\n",
      "1008/1008 [==============================] - 3s 3ms/step - loss: -141484539904.0000 - mean_squared_error: 4812.4404 - val_loss: -142516748288.0000 - val_mean_squared_error: 4242.1772\n",
      "Epoch 18/250\n",
      "1008/1008 [==============================] - 4s 4ms/step - loss: -164315152384.0000 - mean_squared_error: 4812.4390 - val_loss: -164863672320.0000 - val_mean_squared_error: 4242.1772\n",
      "Epoch 19/250\n",
      "1008/1008 [==============================] - 4s 4ms/step - loss: -189371023360.0000 - mean_squared_error: 4812.4375 - val_loss: -189337305088.0000 - val_mean_squared_error: 4242.1772\n",
      "Epoch 20/250\n",
      "1008/1008 [==============================] - 3s 3ms/step - loss: -216737234944.0000 - mean_squared_error: 4812.4414 - val_loss: -216011079680.0000 - val_mean_squared_error: 4242.1772\n",
      "Epoch 21/250\n",
      "1008/1008 [==============================] - 4s 4ms/step - loss: -246491119616.0000 - mean_squared_error: 4812.4385 - val_loss: -244952891392.0000 - val_mean_squared_error: 4242.1772\n",
      "Epoch 22/250\n",
      "1008/1008 [==============================] - 4s 4ms/step - loss: -278728409088.0000 - mean_squared_error: 4812.4380 - val_loss: -276266909696.0000 - val_mean_squared_error: 4242.1772\n",
      "Epoch 23/250\n",
      "1008/1008 [==============================] - 4s 4ms/step - loss: -313549946880.0000 - mean_squared_error: 4812.4365 - val_loss: -310025846784.0000 - val_mean_squared_error: 4242.1772\n",
      "Epoch 24/250\n",
      "1008/1008 [==============================] - 3s 3ms/step - loss: -351043977216.0000 - mean_squared_error: 4812.4380 - val_loss: -346332102656.0000 - val_mean_squared_error: 4242.1772\n",
      "Epoch 25/250\n",
      "1008/1008 [==============================] - 4s 4ms/step - loss: -391305101312.0000 - mean_squared_error: 4812.4380 - val_loss: -385262059520.0000 - val_mean_squared_error: 4242.1772\n",
      "Epoch 26/250\n",
      "1008/1008 [==============================] - 4s 4ms/step - loss: -434412126208.0000 - mean_squared_error: 4812.4443 - val_loss: -426889904128.0000 - val_mean_squared_error: 4242.1772\n",
      "Epoch 27/250\n",
      "1008/1008 [==============================] - 4s 4ms/step - loss: -480471711744.0000 - mean_squared_error: 4812.4380 - val_loss: -471337566208.0000 - val_mean_squared_error: 4242.1772\n",
      "Epoch 28/250\n",
      "1008/1008 [==============================] - 3s 3ms/step - loss: -529582751744.0000 - mean_squared_error: 4812.4380 - val_loss: -518668910592.0000 - val_mean_squared_error: 4242.1772\n",
      "Epoch 29/250\n",
      "1008/1008 [==============================] - 4s 4ms/step - loss: -581797740544.0000 - mean_squared_error: 4812.4375 - val_loss: -568919916544.0000 - val_mean_squared_error: 4242.1772\n",
      "Epoch 30/250\n",
      "1008/1008 [==============================] - 3s 3ms/step - loss: -637220880384.0000 - mean_squared_error: 4812.4385 - val_loss: -622233452544.0000 - val_mean_squared_error: 4242.1772\n",
      "Epoch 31/250\n",
      "1008/1008 [==============================] - 3s 3ms/step - loss: -695996579840.0000 - mean_squared_error: 4812.4385 - val_loss: -678743113728.0000 - val_mean_squared_error: 4242.1772\n",
      "Epoch 32/250\n",
      "1008/1008 [==============================] - 4s 4ms/step - loss: -758161211392.0000 - mean_squared_error: 4812.4409 - val_loss: -738412331008.0000 - val_mean_squared_error: 4242.1772\n",
      "Epoch 33/250\n",
      "1008/1008 [==============================] - 3s 3ms/step - loss: -823814717440.0000 - mean_squared_error: 4812.4385 - val_loss: -801409073152.0000 - val_mean_squared_error: 4242.1772\n",
      "Epoch 34/250\n",
      "1008/1008 [==============================] - 3s 3ms/step - loss: -893046358016.0000 - mean_squared_error: 4812.4429 - val_loss: -867791667200.0000 - val_mean_squared_error: 4242.1772\n",
      "Epoch 35/250\n",
      "1008/1008 [==============================] - 4s 3ms/step - loss: -965927108608.0000 - mean_squared_error: 4812.4419 - val_loss: -937601531904.0000 - val_mean_squared_error: 4242.1772\n",
      "Epoch 36/250\n",
      "1008/1008 [==============================] - 3s 3ms/step - loss: -1042568970240.0000 - mean_squared_error: 4812.4404 - val_loss: -1010995232768.0000 - val_mean_squared_error: 4242.1772\n",
      "Epoch 37/250\n",
      "1008/1008 [==============================] - 3s 3ms/step - loss: -1123098558464.0000 - mean_squared_error: 4812.4380 - val_loss: -1088057769984.0000 - val_mean_squared_error: 4242.1772\n",
      "Epoch 38/250\n",
      "1008/1008 [==============================] - 3s 3ms/step - loss: -1207563059200.0000 - mean_squared_error: 4812.4385 - val_loss: -1168828399616.0000 - val_mean_squared_error: 4242.1772\n",
      "Epoch 39/250\n",
      "1008/1008 [==============================] - 3s 3ms/step - loss: -1296040984576.0000 - mean_squared_error: 4812.4390 - val_loss: -1253373640704.0000 - val_mean_squared_error: 4242.1772\n",
      "Epoch 40/250\n",
      "1008/1008 [==============================] - 3s 3ms/step - loss: -1388622512128.0000 - mean_squared_error: 4812.4351 - val_loss: -1341825875968.0000 - val_mean_squared_error: 4242.1772\n",
      "Epoch 41/250\n",
      "1008/1008 [==============================] - 4s 4ms/step - loss: -1485424689152.0000 - mean_squared_error: 4812.4385 - val_loss: -1434261782528.0000 - val_mean_squared_error: 4242.1772\n",
      "Epoch 42/250\n",
      "1008/1008 [==============================] - 4s 4ms/step - loss: -1586523275264.0000 - mean_squared_error: 4812.4434 - val_loss: -1530734313472.0000 - val_mean_squared_error: 4242.1772\n"
     ]
    },
    {
     "name": "stdout",
     "output_type": "stream",
     "text": [
      "Epoch 43/250\n",
      "1008/1008 [==============================] - 3s 3ms/step - loss: -1692013166592.0000 - mean_squared_error: 4812.4385 - val_loss: -1631364055040.0000 - val_mean_squared_error: 4242.1772\n",
      "Epoch 44/250\n",
      "1008/1008 [==============================] - 4s 4ms/step - loss: -1801984540672.0000 - mean_squared_error: 4812.4404 - val_loss: -1736235810816.0000 - val_mean_squared_error: 4242.1772\n",
      "Epoch 45/250\n",
      "1008/1008 [==============================] - 4s 4ms/step - loss: -1916519972864.0000 - mean_squared_error: 4812.4390 - val_loss: -1845365571584.0000 - val_mean_squared_error: 4242.1772\n",
      "Epoch 46/250\n",
      "1008/1008 [==============================] - 4s 4ms/step - loss: -2035721306112.0000 - mean_squared_error: 4812.4375 - val_loss: -1958942736384.0000 - val_mean_squared_error: 4242.1772\n",
      "Epoch 47/250\n",
      "1008/1008 [==============================] - 4s 4ms/step - loss: -2159686582272.0000 - mean_squared_error: 4812.4399 - val_loss: -2077006757888.0000 - val_mean_squared_error: 4242.1772\n",
      "Epoch 48/250\n",
      "1008/1008 [==============================] - 4s 4ms/step - loss: -2288480157696.0000 - mean_squared_error: 4812.4404 - val_loss: -2199591321600.0000 - val_mean_squared_error: 4242.1772\n",
      "Epoch 49/250\n",
      "1008/1008 [==============================] - 3s 3ms/step - loss: -2422136111104.0000 - mean_squared_error: 4812.4414 - val_loss: -2326754230272.0000 - val_mean_squared_error: 4242.1772\n",
      "Epoch 50/250\n",
      "1008/1008 [==============================] - 3s 3ms/step - loss: -2560806879232.0000 - mean_squared_error: 4812.4385 - val_loss: -2458688684032.0000 - val_mean_squared_error: 4242.1772\n",
      "Epoch 51/250\n",
      "1008/1008 [==============================] - 3s 3ms/step - loss: -2704636641280.0000 - mean_squared_error: 4812.4395 - val_loss: -2595492986880.0000 - val_mean_squared_error: 4242.1772\n",
      "Epoch 52/250\n",
      "1008/1008 [==============================] - 4s 3ms/step - loss: -2853664980992.0000 - mean_squared_error: 4812.4351 - val_loss: -2737157177344.0000 - val_mean_squared_error: 4242.1772 - mean_\n",
      "Epoch 53/250\n",
      "1008/1008 [==============================] - 3s 3ms/step - loss: -3007912607744.0000 - mean_squared_error: 4812.4390 - val_loss: -2883699867648.0000 - val_mean_squared_error: 4242.1772\n",
      "Epoch 54/250\n",
      "1008/1008 [==============================] - 3s 3ms/step - loss: -3167496699904.0000 - mean_squared_error: 4812.4385 - val_loss: -3035347550208.0000 - val_mean_squared_error: 4242.1772\n",
      "Epoch 55/250\n",
      "1008/1008 [==============================] - 3s 3ms/step - loss: -3332559077376.0000 - mean_squared_error: 4812.4331 - val_loss: -3192104943616.0000 - val_mean_squared_error: 4242.1772\n",
      "Epoch 56/250\n",
      "1008/1008 [==============================] - 3s 3ms/step - loss: -3503104720896.0000 - mean_squared_error: 4812.4365 - val_loss: -3354046496768.0000 - val_mean_squared_error: 4242.1772\n",
      "Epoch 57/250\n",
      "1008/1008 [==============================] - 3s 3ms/step - loss: -3679353569280.0000 - mean_squared_error: 4812.4443 - val_loss: -3521371963392.0000 - val_mean_squared_error: 4242.1772\n",
      "Epoch 58/250\n",
      "1008/1008 [==============================] - 3s 3ms/step - loss: -3861336817664.0000 - mean_squared_error: 4812.4448 - val_loss: -3694057750528.0000 - val_mean_squared_error: 4242.1772\n",
      "Epoch 59/250\n",
      "1008/1008 [==============================] - 3s 3ms/step - loss: -4049096146944.0000 - mean_squared_error: 4812.4419 - val_loss: -3872186433536.0000 - val_mean_squared_error: 4242.1772\n",
      "Epoch 60/250\n",
      "1008/1008 [==============================] - 3s 3ms/step - loss: -4242783600640.0000 - mean_squared_error: 4812.4341 - val_loss: -4055980834816.0000 - val_mean_squared_error: 4242.1772\n",
      "Epoch 61/250\n",
      "1008/1008 [==============================] - 3s 3ms/step - loss: -4442484637696.0000 - mean_squared_error: 4812.4399 - val_loss: -4245294678016.0000 - val_mean_squared_error: 4242.1772\n",
      "Epoch 62/250\n",
      "1008/1008 [==============================] - 3s 3ms/step - loss: -4648222588928.0000 - mean_squared_error: 4812.4365 - val_loss: -4440383291392.0000 - val_mean_squared_error: 4242.1772\n",
      "Epoch 63/250\n",
      "1008/1008 [==============================] - 3s 3ms/step - loss: -4860125118464.0000 - mean_squared_error: 4812.4355 - val_loss: -4641222295552.0000 - val_mean_squared_error: 4242.1772\n",
      "Epoch 64/250\n",
      "1008/1008 [==============================] - 3s 3ms/step - loss: -5078214770688.0000 - mean_squared_error: 4812.4419 - val_loss: -4847887187968.0000 - val_mean_squared_error: 4242.1772\n",
      "Epoch 65/250\n",
      "1008/1008 [==============================] - 3s 3ms/step - loss: -5302689726464.0000 - mean_squared_error: 4812.4385 - val_loss: -5060629626880.0000 - val_mean_squared_error: 4242.1772\n",
      "Epoch 66/250\n",
      "1008/1008 [==============================] - 3s 3ms/step - loss: -5533594550272.0000 - mean_squared_error: 4812.4385 - val_loss: -5279340560384.0000 - val_mean_squared_error: 4242.1772\n",
      "Epoch 67/250\n",
      "1008/1008 [==============================] - 3s 3ms/step - loss: -5770975903744.0000 - mean_squared_error: 4812.4355 - val_loss: -5504140574720.0000 - val_mean_squared_error: 4242.1772\n",
      "Epoch 68/250\n",
      "1008/1008 [==============================] - 3s 3ms/step - loss: -6014968004608.0000 - mean_squared_error: 4812.4346 - val_loss: -5735202684928.0000 - val_mean_squared_error: 4242.1772\n",
      "Epoch 69/250\n",
      "1008/1008 [==============================] - 3s 3ms/step - loss: -6265730760704.0000 - mean_squared_error: 4812.4409 - val_loss: -5972664778752.0000 - val_mean_squared_error: 4242.1772\n",
      "Epoch 70/250\n",
      "1008/1008 [==============================] - 3s 3ms/step - loss: -6523322368000.0000 - mean_squared_error: 4812.4399 - val_loss: -6216489107456.0000 - val_mean_squared_error: 4242.1772\n",
      "Epoch 71/250\n",
      "1008/1008 [==============================] - 3s 3ms/step - loss: -6787610705920.0000 - mean_squared_error: 4812.4399 - val_loss: -6466572386304.0000 - val_mean_squared_error: 4242.1772\n",
      "Epoch 72/250\n",
      "1008/1008 [==============================] - 3s 3ms/step - loss: -7058933415936.0000 - mean_squared_error: 4812.4429 - val_loss: -6723352395776.0000 - val_mean_squared_error: 4242.1772\n",
      "Epoch 73/250\n",
      "1008/1008 [==============================] - 3s 3ms/step - loss: -7337288400896.0000 - mean_squared_error: 4812.4365 - val_loss: -6986717986816.0000 - val_mean_squared_error: 4242.1772\n",
      "Epoch 74/250\n",
      "1008/1008 [==============================] - 3s 3ms/step - loss: -7622914736128.0000 - mean_squared_error: 4812.4443 - val_loss: -7256917671936.0000 - val_mean_squared_error: 4242.1772\n",
      "Epoch 75/250\n",
      "1008/1008 [==============================] - 3s 3ms/step - loss: -7915561811968.0000 - mean_squared_error: 4812.4365 - val_loss: -7533609091072.0000 - val_mean_squared_error: 4242.1772\n",
      "Epoch 76/250\n",
      "1008/1008 [==============================] - 3s 3ms/step - loss: -8215525851136.0000 - mean_squared_error: 4812.4429 - val_loss: -7817353756672.0000 - val_mean_squared_error: 4242.1772\n",
      "Epoch 77/250\n",
      "1008/1008 [==============================] - 3s 3ms/step - loss: -8522971480064.0000 - mean_squared_error: 4812.4404 - val_loss: -8107992285184.0000 - val_mean_squared_error: 4242.1772\n",
      "Epoch 78/250\n",
      "1008/1008 [==============================] - 3s 3ms/step - loss: -8837718343680.0000 - mean_squared_error: 4812.4360 - val_loss: -8405522579456.0000 - val_mean_squared_error: 4242.1772\n",
      "Epoch 79/250\n",
      "1008/1008 [==============================] - 3s 3ms/step - loss: -9160127152128.0000 - mean_squared_error: 4812.4399 - val_loss: -8710282805248.0000 - val_mean_squared_error: 4242.1772\n",
      "Epoch 80/250\n",
      "1008/1008 [==============================] - 3s 3ms/step - loss: -9490216779776.0000 - mean_squared_error: 4812.4395 - val_loss: -9022335877120.0000 - val_mean_squared_error: 4242.1772\n",
      "Epoch 81/250\n",
      "1008/1008 [==============================] - 3s 3ms/step - loss: -9828142415872.0000 - mean_squared_error: 4812.4443 - val_loss: -9341665017856.0000 - val_mean_squared_error: 4242.1772\n",
      "Epoch 82/250\n",
      "1008/1008 [==============================] - 3s 3ms/step - loss: -10173841145856.0000 - mean_squared_error: 4812.4409 - val_loss: -9668220944384.0000 - val_mean_squared_error: 4242.1772\n",
      "Epoch 83/250\n",
      "1008/1008 [==============================] - 3s 3ms/step - loss: -10527418875904.0000 - mean_squared_error: 4812.4424 - val_loss: -10002307743744.0000 - val_mean_squared_error: 4242.1772\n",
      "Epoch 84/250\n"
     ]
    },
    {
     "name": "stdout",
     "output_type": "stream",
     "text": [
      "1008/1008 [==============================] - 3s 3ms/step - loss: -10888981512192.0000 - mean_squared_error: 4812.4404 - val_loss: -10343773372416.0000 - val_mean_squared_error: 4242.1772\n",
      "Epoch 85/250\n",
      "1008/1008 [==============================] - 3s 3ms/step - loss: -11258584629248.0000 - mean_squared_error: 4812.4365 - val_loss: -10692813914112.0000 - val_mean_squared_error: 4242.1772\n",
      "Epoch 86/250\n",
      "1008/1008 [==============================] - 3s 3ms/step - loss: -11636534411264.0000 - mean_squared_error: 4812.4385 - val_loss: -11049863479296.0000 - val_mean_squared_error: 4242.1772\n",
      "Epoch 87/250\n",
      "1008/1008 [==============================] - 3s 3ms/step - loss: -12022830858240.0000 - mean_squared_error: 4812.4395 - val_loss: -11414599106560.0000 - val_mean_squared_error: 4242.1772\n",
      "Epoch 88/250\n",
      "1008/1008 [==============================] - 3s 3ms/step - loss: -12417292566528.0000 - mean_squared_error: 4812.4404 - val_loss: -11786875043840.0000 - val_mean_squared_error: 4242.1772\n",
      "Epoch 89/250\n",
      "1008/1008 [==============================] - 3s 3ms/step - loss: -12820013907968.0000 - mean_squared_error: 4812.4395 - val_loss: -12167049904128.0000 - val_mean_squared_error: 4242.1772\n",
      "Epoch 90/250\n",
      "1008/1008 [==============================] - 3s 3ms/step - loss: -13231466741760.0000 - mean_squared_error: 4812.4365 - val_loss: -12555687821312.0000 - val_mean_squared_error: 4242.1772\n",
      "Epoch 91/250\n",
      "1008/1008 [==============================] - 3s 3ms/step - loss: -13651580813312.0000 - mean_squared_error: 4812.4336 - val_loss: -12952023334912.0000 - val_mean_squared_error: 4242.1772\n",
      "Epoch 92/250\n",
      "1008/1008 [==============================] - 3s 3ms/step - loss: -14080437911552.0000 - mean_squared_error: 4812.4385 - val_loss: -13356908937216.0000 - val_mean_squared_error: 4242.1772\n",
      "Epoch 93/250\n",
      "1008/1008 [==============================] - 3s 3ms/step - loss: -14518041182208.0000 - mean_squared_error: 4812.4365 - val_loss: -13769727016960.0000 - val_mean_squared_error: 4242.1772\n",
      "Epoch 94/250\n",
      "1008/1008 [==============================] - 3s 3ms/step - loss: -14964539523072.0000 - mean_squared_error: 4812.4385 - val_loss: -14191059533824.0000 - val_mean_squared_error: 4242.1772\n",
      "Epoch 95/250\n",
      "1008/1008 [==============================] - 3s 3ms/step - loss: -15420032548864.0000 - mean_squared_error: 4812.4399 - val_loss: -14620774367232.0000 - val_mean_squared_error: 4242.1772\n",
      "Epoch 96/250\n",
      "1008/1008 [==============================] - 3s 3ms/step - loss: -15884482510848.0000 - mean_squared_error: 4812.4370 - val_loss: -15058865225728.0000 - val_mean_squared_error: 4242.1772\n",
      "Epoch 97/250\n",
      "1008/1008 [==============================] - 3s 3ms/step - loss: -16358207127552.0000 - mean_squared_error: 4812.4375 - val_loss: -15505813405696.0000 - val_mean_squared_error: 4242.1772\n",
      "Epoch 98/250\n",
      "1008/1008 [==============================] - 3s 3ms/step - loss: -16841057501184.0000 - mean_squared_error: 4812.4409 - val_loss: -15961143902208.0000 - val_mean_squared_error: 4242.1772\n",
      "Epoch 99/250\n",
      "1008/1008 [==============================] - 3s 3ms/step - loss: -17333374418944.0000 - mean_squared_error: 4812.4375 - val_loss: -16425438674944.0000 - val_mean_squared_error: 4242.1772\n",
      "Epoch 100/250\n",
      "1008/1008 [==============================] - 3s 3ms/step - loss: -17834948165632.0000 - mean_squared_error: 4812.4404 - val_loss: -16898390491136.0000 - val_mean_squared_error: 4242.1772\n",
      "Epoch 101/250\n",
      "1008/1008 [==============================] - 3s 3ms/step - loss: -18346200268800.0000 - mean_squared_error: 4812.4375 - val_loss: -17380582359040.0000 - val_mean_squared_error: 4242.1772\n",
      "Epoch 102/250\n",
      "1008/1008 [==============================] - 3s 3ms/step - loss: -18867002802176.0000 - mean_squared_error: 4812.4346 - val_loss: -17871457484800.0000 - val_mean_squared_error: 4242.1772\n",
      "Epoch 103/250\n",
      "1008/1008 [==============================] - 3s 3ms/step - loss: -19397292851200.0000 - mean_squared_error: 4812.4390 - val_loss: -18371462561792.0000 - val_mean_squared_error: 4242.1772\n",
      "Epoch 104/250\n",
      "1008/1008 [==============================] - 3s 3ms/step - loss: -19937416445952.0000 - mean_squared_error: 4812.4385 - val_loss: -18880634290176.0000 - val_mean_squared_error: 4242.1772\n",
      "Epoch 105/250\n",
      "1008/1008 [==============================] - 3s 3ms/step - loss: -20487451181056.0000 - mean_squared_error: 4812.4370 - val_loss: -19398981058560.0000 - val_mean_squared_error: 4242.1772\n",
      "Epoch 106/250\n",
      "1008/1008 [==============================] - 3s 3ms/step - loss: -21047367696384.0000 - mean_squared_error: 4812.4355 - val_loss: -19926756622336.0000 - val_mean_squared_error: 4242.1772\n",
      "Epoch 107/250\n",
      "1008/1008 [==============================] - 3s 3ms/step - loss: -21617119854592.0000 - mean_squared_error: 4812.4385 - val_loss: -20463661088768.0000 - val_mean_squared_error: 4242.1772\n",
      "Epoch 108/250\n",
      "1008/1008 [==============================] - 3s 3ms/step - loss: -22196961411072.0000 - mean_squared_error: 4812.4385 - val_loss: -21010092916736.0000 - val_mean_squared_error: 4242.1772\n",
      "Epoch 109/250\n",
      "1008/1008 [==============================] - 3s 3ms/step - loss: -22787313893376.0000 - mean_squared_error: 4812.4385 - val_loss: -21566417010688.0000 - val_mean_squared_error: 4242.1772\n",
      "Epoch 110/250\n",
      "1008/1008 [==============================] - 3s 3ms/step - loss: -23387892088832.0000 - mean_squared_error: 4812.4365 - val_loss: -22132312506368.0000 - val_mean_squared_error: 4242.1772\n",
      "Epoch 111/250\n",
      "1008/1008 [==============================] - 3s 3ms/step - loss: -23998758912000.0000 - mean_squared_error: 4812.4429 - val_loss: -22707890552832.0000 - val_mean_squared_error: 4242.1772\n",
      "Epoch 112/250\n",
      "1008/1008 [==============================] - 3s 3ms/step - loss: -24620029706240.0000 - mean_squared_error: 4812.4365 - val_loss: -23293084041216.0000 - val_mean_squared_error: 4242.1772\n",
      "Epoch 113/250\n",
      "1008/1008 [==============================] - 3s 3ms/step - loss: -25251930963968.0000 - mean_squared_error: 4812.4365 - val_loss: -23888423550976.0000 - val_mean_squared_error: 4242.1772\n",
      "Epoch 114/250\n",
      "1008/1008 [==============================] - 3s 3ms/step - loss: -25894481559552.0000 - mean_squared_error: 4812.4399 - val_loss: -24493676298240.0000 - val_mean_squared_error: 4242.1772\n",
      "Epoch 115/250\n",
      "1008/1008 [==============================] - 3s 3ms/step - loss: -26547847168000.0000 - mean_squared_error: 4812.4429 - val_loss: -25109037318144.0000 - val_mean_squared_error: 4242.1772\n",
      "Epoch 116/250\n",
      "1008/1008 [==============================] - 3s 3ms/step - loss: -27211656593408.0000 - mean_squared_error: 4812.4375 - val_loss: -25734187843584.0000 - val_mean_squared_error: 4242.1772\n",
      "Epoch 117/250\n",
      "1008/1008 [==============================] - 3s 3ms/step - loss: -27886421540864.0000 - mean_squared_error: 4812.4409 - val_loss: -26369614413824.0000 - val_mean_squared_error: 4242.1772\n",
      "Epoch 118/250\n",
      "1008/1008 [==============================] - 3s 3ms/step - loss: -28572416737280.0000 - mean_squared_error: 4812.4385 - val_loss: -27015637893120.0000 - val_mean_squared_error: 4242.1772\n",
      "Epoch 119/250\n",
      "1008/1008 [==============================] - 3s 3ms/step - loss: -29269344387072.0000 - mean_squared_error: 4812.4443 - val_loss: -27671876599808.0000 - val_mean_squared_error: 4242.1772\n",
      "Epoch 120/250\n",
      "1008/1008 [==============================] - 3s 3ms/step - loss: -29977177227264.0000 - mean_squared_error: 4812.4419 - val_loss: -28338395545600.0000 - val_mean_squared_error: 4242.1772\n",
      "Epoch 121/250\n",
      "1008/1008 [==============================] - 3s 3ms/step - loss: -30696565374976.0000 - mean_squared_error: 4812.4380 - val_loss: -29015807098880.0000 - val_mean_squared_error: 4242.1772\n",
      "Epoch 122/250\n",
      "1008/1008 [==============================] - 3s 3ms/step - loss: -31427280240640.0000 - mean_squared_error: 4812.4409 - val_loss: -29703584874496.0000 - val_mean_squared_error: 4242.1772\n",
      "Epoch 123/250\n",
      "1008/1008 [==============================] - 3s 3ms/step - loss: -32169273589760.0000 - mean_squared_error: 4812.4419 - val_loss: -30402200731648.0000 - val_mean_squared_error: 4242.1772\n",
      "Epoch 124/250\n",
      "1008/1008 [==============================] - 3s 3ms/step - loss: -32923040350208.0000 - mean_squared_error: 4812.4404 - val_loss: -31111738556416.0000 - val_mean_squared_error: 4242.1772\n"
     ]
    },
    {
     "name": "stdout",
     "output_type": "stream",
     "text": [
      "Epoch 125/250\n",
      "1008/1008 [==============================] - 3s 3ms/step - loss: -33688297406464.0000 - mean_squared_error: 4812.4375 - val_loss: -31832112365568.0000 - val_mean_squared_error: 4242.1772\n",
      "Epoch 126/250\n",
      "1008/1008 [==============================] - 3s 3ms/step - loss: -34465466286080.0000 - mean_squared_error: 4812.4429 - val_loss: -32563529777152.0000 - val_mean_squared_error: 4242.1772\n",
      "Epoch 127/250\n",
      "1008/1008 [==============================] - 3s 3ms/step - loss: -35254068838400.0000 - mean_squared_error: 4812.4424 - val_loss: -33305867059200.0000 - val_mean_squared_error: 4242.1772\n",
      "Epoch 128/250\n",
      "1008/1008 [==============================] - 3s 3ms/step - loss: -36054644031488.0000 - mean_squared_error: 4812.4395 - val_loss: -34059354898432.0000 - val_mean_squared_error: 4242.1772\n",
      "Epoch 129/250\n",
      "1008/1008 [==============================] - 3s 3ms/step - loss: -36867118465024.0000 - mean_squared_error: 4812.4385 - val_loss: -34823712276480.0000 - val_mean_squared_error: 4242.1772\n",
      "Epoch 130/250\n",
      "1008/1008 [==============================] - 3s 3ms/step - loss: -37691630551040.0000 - mean_squared_error: 4812.4365 - val_loss: -35599620767744.0000 - val_mean_squared_error: 4242.1772\n",
      "Epoch 131/250\n",
      "1008/1008 [==============================] - 3s 3ms/step - loss: -38528108986368.0000 - mean_squared_error: 4812.4375 - val_loss: -36386715467776.0000 - val_mean_squared_error: 4242.1772\n",
      "Epoch 132/250\n",
      "1008/1008 [==============================] - 3s 3ms/step - loss: -39376880926720.0000 - mean_squared_error: 4812.4404 - val_loss: -37185331920896.0000 - val_mean_squared_error: 4242.1772\n",
      "Epoch 133/250\n",
      "1008/1008 [==============================] - 3s 3ms/step - loss: -40237543718912.0000 - mean_squared_error: 4812.4395 - val_loss: -37995050696704.0000 - val_mean_squared_error: 4242.1772\n",
      "Epoch 134/250\n",
      "1008/1008 [==============================] - 3s 3ms/step - loss: -41111124967424.0000 - mean_squared_error: 4812.4385 - val_loss: -38817155252224.0000 - val_mean_squared_error: 4242.1772\n",
      "Epoch 135/250\n",
      "1008/1008 [==============================] - 3s 3ms/step - loss: -41997268156416.0000 - mean_squared_error: 4812.4385 - val_loss: -39650647343104.0000 - val_mean_squared_error: 4242.1772\n",
      "Epoch 136/250\n",
      "1008/1008 [==============================] - 3s 3ms/step - loss: -42895734210560.0000 - mean_squared_error: 4812.4385 - val_loss: -40496063840256.0000 - val_mean_squared_error: 4242.1772\n",
      "Epoch 137/250\n",
      "1008/1008 [==============================] - 3s 3ms/step - loss: -43807177441280.0000 - mean_squared_error: 4812.4395 - val_loss: -41353417326592.0000 - val_mean_squared_error: 4242.1772\n",
      "Epoch 138/250\n",
      "1008/1008 [==============================] - 3s 3ms/step - loss: -44730889011200.0000 - mean_squared_error: 4812.4385 - val_loss: -42222049296384.0000 - val_mean_squared_error: 4242.1772\n",
      "Epoch 139/250\n",
      "1008/1008 [==============================] - 3s 3ms/step - loss: -45667472900096.0000 - mean_squared_error: 4812.4404 - val_loss: -43103142543360.0000 - val_mean_squared_error: 4242.1772\n",
      "Epoch 140/250\n",
      "1008/1008 [==============================] - 3s 3ms/step - loss: -46616916525056.0000 - mean_squared_error: 4812.4399 - val_loss: -43996361523200.0000 - val_mean_squared_error: 4242.1772\n",
      "Epoch 141/250\n",
      "1008/1008 [==============================] - 3s 3ms/step - loss: -47579224080384.0000 - mean_squared_error: 4812.4370 - val_loss: -44901215502336.0000 - val_mean_squared_error: 4242.1772\n",
      "Epoch 142/250\n",
      "1008/1008 [==============================] - 3s 3ms/step - loss: -48554622058496.0000 - mean_squared_error: 4812.4424 - val_loss: -45818413318144.0000 - val_mean_squared_error: 4242.1772\n",
      "Epoch 143/250\n",
      "1008/1008 [==============================] - 3s 3ms/step - loss: -49543131430912.0000 - mean_squared_error: 4812.4385 - val_loss: -46747908833280.0000 - val_mean_squared_error: 4242.1772\n",
      "Epoch 144/250\n",
      "1008/1008 [==============================] - 3s 3ms/step - loss: -50544987078656.0000 - mean_squared_error: 4812.4419 - val_loss: -47690196975616.0000 - val_mean_squared_error: 4242.1772\n",
      "Epoch 145/250\n",
      "1008/1008 [==============================] - 3s 3ms/step - loss: -51560306442240.0000 - mean_squared_error: 4812.4429 - val_loss: -48645290328064.0000 - val_mean_squared_error: 4242.1772\n",
      "Epoch 146/250\n",
      "1008/1008 [==============================] - 3s 3ms/step - loss: -52588972081152.0000 - mean_squared_error: 4812.4375 - val_loss: -49611976736768.0000 - val_mean_squared_error: 4242.1772\n",
      "Epoch 147/250\n",
      "1008/1008 [==============================] - 3s 3ms/step - loss: -53631046909952.0000 - mean_squared_error: 4812.4365 - val_loss: -50591925534720.0000 - val_mean_squared_error: 4242.1772\n",
      "Epoch 148/250\n",
      "1008/1008 [==============================] - 3s 3ms/step - loss: -54686526734336.0000 - mean_squared_error: 4812.4370 - val_loss: -51584218169344.0000 - val_mean_squared_error: 4242.1772\n",
      "Epoch 149/250\n",
      "1008/1008 [==============================] - 3s 3ms/step - loss: -55756254609408.0000 - mean_squared_error: 4812.4385 - val_loss: -52590297481216.0000 - val_mean_squared_error: 4242.1772\n",
      "Epoch 150/250\n",
      "1008/1008 [==============================] - 3s 3ms/step - loss: -56839416840192.0000 - mean_squared_error: 4812.4380 - val_loss: -53608418639872.0000 - val_mean_squared_error: 4242.1772\n",
      "Epoch 151/250\n",
      "1008/1008 [==============================] - 3s 3ms/step - loss: -57936508354560.0000 - mean_squared_error: 4812.4448 - val_loss: -54639777021952.0000 - val_mean_squared_error: 4242.1772\n",
      "Epoch 152/250\n",
      "1008/1008 [==============================] - 3s 3ms/step - loss: -59047688536064.0000 - mean_squared_error: 4812.4375 - val_loss: -55684334878720.0000 - val_mean_squared_error: 4242.1772\n",
      "Epoch 153/250\n",
      "1008/1008 [==============================] - 3s 3ms/step - loss: -60172877692928.0000 - mean_squared_error: 4812.4395 - val_loss: -56742071238656.0000 - val_mean_squared_error: 4242.1772\n",
      "Epoch 154/250\n",
      "1008/1008 [==============================] - 3s 3ms/step - loss: -61311891275776.0000 - mean_squared_error: 4812.4365 - val_loss: -57812726054912.0000 - val_mean_squared_error: 4242.1772\n",
      "Epoch 155/250\n",
      "1008/1008 [==============================] - 3s 3ms/step - loss: -62465010302976.0000 - mean_squared_error: 4812.4429 - val_loss: -58896391602176.0000 - val_mean_squared_error: 4242.1772\n",
      "Epoch 156/250\n",
      "1008/1008 [==============================] - 3s 3ms/step - loss: -63632666787840.0000 - mean_squared_error: 4812.4390 - val_loss: -59994179371008.0000 - val_mean_squared_error: 4242.1772\n",
      "Epoch 157/250\n",
      "1008/1008 [==============================] - 3s 3ms/step - loss: -64814919450624.0000 - mean_squared_error: 4812.4360 - val_loss: -61105476993024.0000 - val_mean_squared_error: 4242.1772\n",
      "Epoch 158/250\n",
      "1008/1008 [==============================] - 3s 3ms/step - loss: -66011340472320.0000 - mean_squared_error: 4812.4395 - val_loss: -62229596602368.0000 - val_mean_squared_error: 4242.1772\n",
      "Epoch 159/250\n",
      "1008/1008 [==============================] - 3s 3ms/step - loss: -67222147956736.0000 - mean_squared_error: 4812.4429 - val_loss: -63367549026304.0000 - val_mean_squared_error: 4242.1772\n",
      "Epoch 160/250\n",
      "1008/1008 [==============================] - 3s 3ms/step - loss: -68447606145024.0000 - mean_squared_error: 4812.4414 - val_loss: -64519116161024.0000 - val_mean_squared_error: 4242.1772\n",
      "Epoch 161/250\n",
      "1008/1008 [==============================] - 3s 3ms/step - loss: -69687891197952.0000 - mean_squared_error: 4812.4370 - val_loss: -65684805517312.0000 - val_mean_squared_error: 4242.1772\n",
      "Epoch 162/250\n",
      "1008/1008 [==============================] - 4s 4ms/step - loss: -70943103778816.0000 - mean_squared_error: 4812.4404 - val_loss: -66864260579328.0000 - val_mean_squared_error: 4242.1772\n",
      "Epoch 163/250\n",
      "1008/1008 [==============================] - 4s 4ms/step - loss: -72213172584448.0000 - mean_squared_error: 4812.4419 - val_loss: -68057946914816.0000 - val_mean_squared_error: 4242.1772\n",
      "Epoch 164/250\n",
      "1008/1008 [==============================] - 4s 4ms/step - loss: -73498164723712.0000 - mean_squared_error: 4812.4419 - val_loss: -69265059217408.0000 - val_mean_squared_error: 4242.1772\n",
      "Epoch 165/250\n",
      "1008/1008 [==============================] - 3s 3ms/step - loss: -74798130528256.0000 - mean_squared_error: 4812.4395 - val_loss: -70486637674496.0000 - val_mean_squared_error: 4242.1772\n"
     ]
    },
    {
     "name": "stdout",
     "output_type": "stream",
     "text": [
      "Epoch 166/250\n",
      "1008/1008 [==============================] - 3s 3ms/step - loss: -76113061609472.0000 - mean_squared_error: 4812.4404 - val_loss: -71721860202496.0000 - val_mean_squared_error: 4242.1772\n",
      "Epoch 167/250\n",
      "1008/1008 [==============================] - 3s 3ms/step - loss: -77443176071168.0000 - mean_squared_error: 4812.4414 - val_loss: -72971888623616.0000 - val_mean_squared_error: 4242.1772\n",
      "Epoch 168/250\n",
      "1008/1008 [==============================] - 3s 3ms/step - loss: -78788843012096.0000 - mean_squared_error: 4812.4429 - val_loss: -74235993128960.0000 - val_mean_squared_error: 4242.1772\n",
      "Epoch 169/250\n",
      "1008/1008 [==============================] - 4s 4ms/step - loss: -80150221815808.0000 - mean_squared_error: 4812.4351 - val_loss: -75515155185664.0000 - val_mean_squared_error: 4242.1772\n",
      "Epoch 170/250\n",
      "1008/1008 [==============================] - 3s 3ms/step - loss: -81527018881024.0000 - mean_squared_error: 4812.4385 - val_loss: -76808284274688.0000 - val_mean_squared_error: 4242.1772\n",
      "Epoch 171/250\n",
      "1008/1008 [==============================] - 4s 4ms/step - loss: -82918932217856.0000 - mean_squared_error: 4812.4419 - val_loss: -78116227645440.0000 - val_mean_squared_error: 4242.1772\n",
      "Epoch 172/250\n",
      "1008/1008 [==============================] - 4s 4ms/step - loss: -84327304003584.0000 - mean_squared_error: 4812.4375 - val_loss: -79439228567552.0000 - val_mean_squared_error: 4242.1772\n",
      "Epoch 173/250\n",
      "1008/1008 [==============================] - 3s 3ms/step - loss: -85751245045760.0000 - mean_squared_error: 4812.4360 - val_loss: -80776666284032.0000 - val_mean_squared_error: 4242.1772\n",
      "Epoch 174/250\n",
      "1008/1008 [==============================] - 3s 3ms/step - loss: -87190805676032.0000 - mean_squared_error: 4812.4385 - val_loss: -82128834396160.0000 - val_mean_squared_error: 4242.1772\n",
      "Epoch 175/250\n",
      "1008/1008 [==============================] - 4s 4ms/step - loss: -88646203998208.0000 - mean_squared_error: 4812.4385 - val_loss: -83496194277376.0000 - val_mean_squared_error: 4242.1772\n",
      "Epoch 176/250\n",
      "1008/1008 [==============================] - 4s 4ms/step - loss: -90118027214848.0000 - mean_squared_error: 4812.4390 - val_loss: -84878209056768.0000 - val_mean_squared_error: 4242.1772\n",
      "Epoch 177/250\n",
      "1008/1008 [==============================] - 4s 4ms/step - loss: -91605176418304.0000 - mean_squared_error: 4812.4463 - val_loss: -86274929065984.0000 - val_mean_squared_error: 4242.1772\n",
      "Epoch 178/250\n",
      "1008/1008 [==============================] - 4s 4ms/step - loss: -93108918288384.0000 - mean_squared_error: 4812.4429 - val_loss: -87687537098752.0000 - val_mean_squared_error: 4242.1772\n",
      "Epoch 179/250\n",
      "1008/1008 [==============================] - 3s 3ms/step - loss: -94629236047872.0000 - mean_squared_error: 4812.4370 - val_loss: -89115831828480.0000 - val_mean_squared_error: 4242.1772\n",
      "Epoch 180/250\n",
      "1008/1008 [==============================] - 4s 4ms/step - loss: -96166297468928.0000 - mean_squared_error: 4812.4355 - val_loss: -90558873731072.0000 - val_mean_squared_error: 4242.1772\n",
      "Epoch 181/250\n",
      "1008/1008 [==============================] - 3s 3ms/step - loss: -97719003643904.0000 - mean_squared_error: 4812.4404 - val_loss: -92017291952128.0000 - val_mean_squared_error: 4242.1772\n",
      "Epoch 182/250\n",
      "1008/1008 [==============================] - 4s 4ms/step - loss: -99288562532352.0000 - mean_squared_error: 4812.4424 - val_loss: -93491203932160.0000 - val_mean_squared_error: 4242.1772\n",
      "Epoch 183/250\n",
      "1008/1008 [==============================] - 3s 3ms/step - loss: -100874680532992.0000 - mean_squared_error: 4812.4404 - val_loss: -94980366401536.0000 - val_mean_squared_error: 4242.1772\n",
      "Epoch 184/250\n",
      "1008/1008 [==============================] - 4s 3ms/step - loss: -102476887883776.0000 - mean_squared_error: 4812.4346 - val_loss: -96484779360256.0000 - val_mean_squared_error: 4242.1772\n",
      "Epoch 185/250\n",
      "1008/1008 [==============================] - 3s 3ms/step - loss: -104096015056896.0000 - mean_squared_error: 4812.4355 - val_loss: -98005759819776.0000 - val_mean_squared_error: 4242.1772\n",
      "Epoch 186/250\n",
      "1008/1008 [==============================] - 3s 3ms/step - loss: -105732179492864.0000 - mean_squared_error: 4812.4404 - val_loss: -99542192095232.0000 - val_mean_squared_error: 4242.1772\n",
      "Epoch 187/250\n",
      "1008/1008 [==============================] - 3s 3ms/step - loss: -107385976782848.0000 - mean_squared_error: 4812.4385 - val_loss: -101094998933504.0000 - val_mean_squared_error: 4242.1772\n",
      "Epoch 188/250\n",
      "1008/1008 [==============================] - 3s 3ms/step - loss: -109057062993920.0000 - mean_squared_error: 4812.4399 - val_loss: -102664222277632.0000 - val_mean_squared_error: 4242.1772\n",
      "Epoch 189/250\n",
      "1008/1008 [==============================] - 3s 3ms/step - loss: -110744783814656.0000 - mean_squared_error: 4812.4385 - val_loss: -104248746442752.0000 - val_mean_squared_error: 4242.1772\n",
      "Epoch 190/250\n",
      "1008/1008 [==============================] - 3s 3ms/step - loss: -112449642561536.0000 - mean_squared_error: 4812.4385 - val_loss: -105849972326400.0000 - val_mean_squared_error: 4242.1772\n",
      "Epoch 191/250\n",
      "1008/1008 [==============================] - 4s 4ms/step - loss: -114171412742144.0000 - mean_squared_error: 4812.4390 - val_loss: -107465584672768.0000 - val_mean_squared_error: 4242.1772\n",
      "Epoch 192/250\n",
      "1008/1008 [==============================] - 3s 3ms/step - loss: -115911000326144.0000 - mean_squared_error: 4812.4360 - val_loss: -109099098308608.0000 - val_mean_squared_error: 4242.1772\n",
      "Epoch 193/250\n",
      "1008/1008 [==============================] - 3s 3ms/step - loss: -117668514365440.0000 - mean_squared_error: 4812.4429 - val_loss: -110749691150336.0000 - val_mean_squared_error: 4242.1772\n",
      "Epoch 194/250\n",
      "1008/1008 [==============================] - 3s 3ms/step - loss: -119444240072704.0000 - mean_squared_error: 4812.4395 - val_loss: -112416348176384.0000 - val_mean_squared_error: 4242.1772\n",
      "Epoch 195/250\n",
      "1008/1008 [==============================] - 4s 4ms/step - loss: -121237346975744.0000 - mean_squared_error: 4812.4404 - val_loss: -114099866304512.0000 - val_mean_squared_error: 4242.1772\n",
      "Epoch 196/250\n",
      "1008/1008 [==============================] - 4s 4ms/step - loss: -123048439054336.0000 - mean_squared_error: 4812.4399 - val_loss: -115800019042304.0000 - val_mean_squared_error: 4242.1772\n",
      "Epoch 197/250\n",
      "1008/1008 [==============================] - 4s 4ms/step - loss: -124876694224896.0000 - mean_squared_error: 4812.4395 - val_loss: -117515858477056.0000 - val_mean_squared_error: 4242.1772\n",
      "Epoch 198/250\n",
      "1008/1008 [==============================] - 4s 3ms/step - loss: -126721919549440.0000 - mean_squared_error: 4812.4404 - val_loss: -119247896313856.0000 - val_mean_squared_error: 4242.1772\n",
      "Epoch 199/250\n",
      "1008/1008 [==============================] - 3s 3ms/step - loss: -128585792749568.0000 - mean_squared_error: 4812.4365 - val_loss: -120997801885696.0000 - val_mean_squared_error: 4242.1772\n",
      "Epoch 200/250\n",
      "1008/1008 [==============================] - 3s 3ms/step - loss: -130468414488576.0000 - mean_squared_error: 4812.4390 - val_loss: -122765306757120.0000 - val_mean_squared_error: 4242.1772\n",
      "Epoch 201/250\n",
      "1008/1008 [==============================] - 3s 3ms/step - loss: -132369247895552.0000 - mean_squared_error: 4812.4443 - val_loss: -124549228134400.0000 - val_mean_squared_error: 4242.1772\n",
      "Epoch 202/250\n",
      "1008/1008 [==============================] - 3s 3ms/step - loss: -134287294726144.0000 - mean_squared_error: 4812.4424 - val_loss: -126348727156736.0000 - val_mean_squared_error: 4242.1772\n",
      "Epoch 203/250\n",
      "1008/1008 [==============================] - 3s 3ms/step - loss: -136222982799360.0000 - mean_squared_error: 4812.4370 - val_loss: -128166278463488.0000 - val_mean_squared_error: 4242.1772\n",
      "Epoch 204/250\n",
      "1008/1008 [==============================] - 3s 3ms/step - loss: -138178870640640.0000 - mean_squared_error: 4812.4390 - val_loss: -130002838355968.0000 - val_mean_squared_error: 4242.1772\n",
      "Epoch 205/250\n",
      "1008/1008 [==============================] - 3s 3ms/step - loss: -140152609439744.0000 - mean_squared_error: 4812.4385 - val_loss: -131854178975744.0000 - val_mean_squared_error: 4242.1772\n",
      "Epoch 206/250\n"
     ]
    },
    {
     "name": "stdout",
     "output_type": "stream",
     "text": [
      "1008/1008 [==============================] - 3s 3ms/step - loss: -142144878673920.0000 - mean_squared_error: 4812.4346 - val_loss: -133724972777472.0000 - val_mean_squared_error: 4242.1772\n",
      "Epoch 207/250\n",
      "1008/1008 [==============================] - 3s 3ms/step - loss: -144156131328000.0000 - mean_squared_error: 4812.4404 - val_loss: -135611923038208.0000 - val_mean_squared_error: 4242.1772\n",
      "Epoch 208/250\n",
      "1008/1008 [==============================] - 4s 4ms/step - loss: -146185050390528.0000 - mean_squared_error: 4812.4385 - val_loss: -137516187385856.0000 - val_mean_squared_error: 4242.1772\n",
      "Epoch 209/250\n",
      "1008/1008 [==============================] - 4s 4ms/step - loss: -148233967894528.0000 - mean_squared_error: 4812.4419 - val_loss: -139439779086336.0000 - val_mean_squared_error: 4242.1772\n",
      "Epoch 210/250\n",
      "1008/1008 [==============================] - 3s 3ms/step - loss: -150302430855168.0000 - mean_squared_error: 4812.4414 - val_loss: -141380793925632.0000 - val_mean_squared_error: 4242.1772\n",
      "Epoch 211/250\n",
      "1008/1008 [==============================] - 3s 3ms/step - loss: -152389935955968.0000 - mean_squared_error: 4812.4380 - val_loss: -143339634556928.0000 - val_mean_squared_error: 4242.1772\n",
      "Epoch 212/250\n",
      "1008/1008 [==============================] - 3s 3ms/step - loss: -154496382533632.0000 - mean_squared_error: 4812.4385 - val_loss: -145316007378944.0000 - val_mean_squared_error: 4242.1772\n",
      "Epoch 213/250\n",
      "1008/1008 [==============================] - 3s 3ms/step - loss: -156621250494464.0000 - mean_squared_error: 4812.4424 - val_loss: -147310667366400.0000 - val_mean_squared_error: 4242.1772oss: -1561\n",
      "Epoch 214/250\n",
      "1008/1008 [==============================] - 3s 3ms/step - loss: -158765580025856.0000 - mean_squared_error: 4812.4419 - val_loss: -149321903243264.0000 - val_mean_squared_error: 4242.1772\n",
      "Epoch 215/250\n",
      "1008/1008 [==============================] - 3s 3ms/step - loss: -160929538899968.0000 - mean_squared_error: 4812.4424 - val_loss: -151353137561600.0000 - val_mean_squared_error: 4242.1772\n",
      "Epoch 216/250\n",
      "1008/1008 [==============================] - 3s 3ms/step - loss: -163113060007936.0000 - mean_squared_error: 4812.4395 - val_loss: -153402055065600.0000 - val_mean_squared_error: 4242.1772\n",
      "Epoch 217/250\n",
      "1008/1008 [==============================] - 4s 4ms/step - loss: -165315891691520.0000 - mean_squared_error: 4812.4385 - val_loss: -155468689309696.0000 - val_mean_squared_error: 4242.1772\n",
      "Epoch 218/250\n",
      "1008/1008 [==============================] - 4s 4ms/step - loss: -167538369495040.0000 - mean_squared_error: 4812.4385 - val_loss: -157554416025600.0000 - val_mean_squared_error: 4242.1772\n",
      "Epoch 219/250\n",
      "1008/1008 [==============================] - 4s 4ms/step - loss: -169780560527360.0000 - mean_squared_error: 4812.4360 - val_loss: -159657926590464.0000 - val_mean_squared_error: 4242.1772\n",
      "Epoch 220/250\n",
      "1008/1008 [==============================] - 4s 4ms/step - loss: -172042951327744.0000 - mean_squared_error: 4812.4365 - val_loss: -161780898725888.0000 - val_mean_squared_error: 4242.1772\n",
      "Epoch 221/250\n",
      "1008/1008 [==============================] - 4s 3ms/step - loss: -174325575450624.0000 - mean_squared_error: 4812.4404 - val_loss: -163922762006528.0000 - val_mean_squared_error: 4242.1772\n",
      "Epoch 222/250\n",
      "1008/1008 [==============================] - 4s 4ms/step - loss: -176627392708608.0000 - mean_squared_error: 4812.4404 - val_loss: -166082006482944.0000 - val_mean_squared_error: 4242.1772\n",
      "Epoch 223/250\n",
      "1008/1008 [==============================] - 3s 3ms/step - loss: -178948973527040.0000 - mean_squared_error: 4812.4365 - val_loss: -168260645421056.0000 - val_mean_squared_error: 4242.1772\n",
      "Epoch 224/250\n",
      "1008/1008 [==============================] - 3s 3ms/step - loss: -181291643305984.0000 - mean_squared_error: 4812.4404 - val_loss: -170458108395520.0000 - val_mean_squared_error: 4242.1772\n",
      "Epoch 225/250\n",
      "1008/1008 [==============================] - 3s 3ms/step - loss: -183654177308672.0000 - mean_squared_error: 4812.4399 - val_loss: -172674261188608.0000 - val_mean_squared_error: 4242.1772\n",
      "Epoch 226/250\n",
      "1008/1008 [==============================] - 3s 3ms/step - loss: -186037112406016.0000 - mean_squared_error: 4812.4370 - val_loss: -174910362091520.0000 - val_mean_squared_error: 4242.1772\n",
      "Epoch 227/250\n",
      "1008/1008 [==============================] - 3s 3ms/step - loss: -188440364711936.0000 - mean_squared_error: 4812.4365 - val_loss: -177164733382656.0000 - val_mean_squared_error: 4242.1772\n",
      "Epoch 228/250\n",
      "1008/1008 [==============================] - 3s 3ms/step - loss: -190864286547968.0000 - mean_squared_error: 4812.4316 - val_loss: -179438885011456.0000 - val_mean_squared_error: 4242.1772\n",
      "Epoch 229/250\n",
      "1008/1008 [==============================] - 4s 4ms/step - loss: -193309414785024.0000 - mean_squared_error: 4812.4370 - val_loss: -181733135745024.0000 - val_mean_squared_error: 4242.1772\n",
      "Epoch 230/250\n",
      "1008/1008 [==============================] - 3s 3ms/step - loss: -195774709235712.0000 - mean_squared_error: 4812.4438 - val_loss: -184044935446528.0000 - val_mean_squared_error: 4242.1772\n",
      "Epoch 231/250\n",
      "1008/1008 [==============================] - 3s 3ms/step - loss: -198261109424128.0000 - mean_squared_error: 4812.4409 - val_loss: -186378310647808.0000 - val_mean_squared_error: 4242.1772\n",
      "Epoch 232/250\n",
      "1008/1008 [==============================] - 3s 3ms/step - loss: -200769135443968.0000 - mean_squared_error: 4812.4370 - val_loss: -188731046756352.0000 - val_mean_squared_error: 4242.1772\n",
      "Epoch 233/250\n",
      "1008/1008 [==============================] - 3s 3ms/step - loss: -203297327677440.0000 - mean_squared_error: 4812.4390 - val_loss: -191102053253120.0000 - val_mean_squared_error: 4242.1772\n",
      "Epoch 234/250\n",
      "1008/1008 [==============================] - 3s 3ms/step - loss: -205846340435968.0000 - mean_squared_error: 4812.4365 - val_loss: -193493259517952.0000 - val_mean_squared_error: 4242.1772\n",
      "Epoch 235/250\n",
      "1008/1008 [==============================] - 3s 3ms/step - loss: -208415603294208.0000 - mean_squared_error: 4812.4375 - val_loss: -195902685839360.0000 - val_mean_squared_error: 4242.1772\n",
      "Epoch 236/250\n",
      "1008/1008 [==============================] - 3s 3ms/step - loss: -211007146295296.0000 - mean_squared_error: 4812.4399 - val_loss: -198334140645376.0000 - val_mean_squared_error: 4242.1772\n",
      "Epoch 237/250\n",
      "1008/1008 [==============================] - 3s 3ms/step - loss: -213620113801216.0000 - mean_squared_error: 4812.4385 - val_loss: -200785711333376.0000 - val_mean_squared_error: 4242.1772\n",
      "Epoch 238/250\n",
      "1008/1008 [==============================] - 3s 3ms/step - loss: -216255445336064.0000 - mean_squared_error: 4812.4365 - val_loss: -203257515343872.0000 - val_mean_squared_error: 4242.1772\n",
      "Epoch 239/250\n",
      "1008/1008 [==============================] - 3s 3ms/step - loss: -218911698059264.0000 - mean_squared_error: 4812.4385 - val_loss: -205748546043904.0000 - val_mean_squared_error: 4242.1772\n",
      "Epoch 240/250\n",
      "1008/1008 [==============================] - 3s 3ms/step - loss: -221588653867008.0000 - mean_squared_error: 4812.4399 - val_loss: -208259138977792.0000 - val_mean_squared_error: 4242.1772\n",
      "Epoch 241/250\n",
      "1008/1008 [==============================] - 3s 3ms/step - loss: -224286933516288.0000 - mean_squared_error: 4812.4395 - val_loss: -210789461917696.0000 - val_mean_squared_error: 4242.1772\n",
      "Epoch 242/250\n",
      "1008/1008 [==============================] - 3s 3ms/step - loss: -227007476531200.0000 - mean_squared_error: 4812.4351 - val_loss: -213341796564992.0000 - val_mean_squared_error: 4242.1772\n",
      "Epoch 243/250\n",
      "1008/1008 [==============================] - 3s 3ms/step - loss: -229750702342144.0000 - mean_squared_error: 4812.4390 - val_loss: -215914767187968.0000 - val_mean_squared_error: 4242.1772\n",
      "Epoch 244/250\n",
      "1008/1008 [==============================] - 3s 3ms/step - loss: -232515604316160.0000 - mean_squared_error: 4812.4370 - val_loss: -218508642222080.0000 - val_mean_squared_error: 4242.1772\n",
      "Epoch 245/250\n",
      "1008/1008 [==============================] - 3s 3ms/step - loss: -235302534774784.0000 - mean_squared_error: 4812.4380 - val_loss: -221121441955840.0000 - val_mean_squared_error: 4242.1772\n",
      "Epoch 246/250\n"
     ]
    },
    {
     "name": "stdout",
     "output_type": "stream",
     "text": [
      "1008/1008 [==============================] - 3s 3ms/step - loss: -238111342723072.0000 - mean_squared_error: 4812.4355 - val_loss: -223756286951424.0000 - val_mean_squared_error: 4242.1772\n",
      "Epoch 247/250\n",
      "1008/1008 [==============================] - 3s 3ms/step - loss: -240942565031936.0000 - mean_squared_error: 4812.4380 - val_loss: -226411566596096.0000 - val_mean_squared_error: 4242.1772\n",
      "Epoch 248/250\n",
      "1008/1008 [==============================] - 3s 3ms/step - loss: -243796956676096.0000 - mean_squared_error: 4812.4341 - val_loss: -229088421740544.0000 - val_mean_squared_error: 4242.1772\n",
      "Epoch 249/250\n",
      "1008/1008 [==============================] - 3s 3ms/step - loss: -246673192255488.0000 - mean_squared_error: 4812.4414 - val_loss: -231785912860672.0000 - val_mean_squared_error: 4242.1772\n",
      "Epoch 250/250\n",
      "1008/1008 [==============================] - 3s 3ms/step - loss: -249571624091648.0000 - mean_squared_error: 4812.4404 - val_loss: -234504341946368.0000 - val_mean_squared_error: 4242.1772\n"
     ]
    }
   ],
   "source": [
    "history = model.fit(x,y, validation_split=0.33, epochs=250, batch_size=10)"
   ]
  },
  {
   "cell_type": "code",
   "execution_count": 21,
   "id": "f5501b3c",
   "metadata": {
    "ExecuteTime": {
     "end_time": "2022-01-07T12:46:59.799722Z",
     "start_time": "2022-01-07T12:46:58.677883Z"
    }
   },
   "outputs": [
    {
     "name": "stdout",
     "output_type": "stream",
     "text": [
      "470/470 [==============================] - 1s 2ms/step - loss: -245576952184832.0000 - mean_squared_error: 4624.2456: 0s - loss: -246158165278720.0000 - mean_squa\n",
      "mean_squared_error: 46.24%\n"
     ]
    }
   ],
   "source": [
    "scores = model.evaluate(x,y)\n",
    "print(\"%s: %.2f%%\" % (model.metrics_names[1], scores[1]/100))"
   ]
  },
  {
   "cell_type": "code",
   "execution_count": 22,
   "id": "59ad4812",
   "metadata": {
    "ExecuteTime": {
     "end_time": "2022-01-07T12:47:06.361052Z",
     "start_time": "2022-01-07T12:47:06.337993Z"
    }
   },
   "outputs": [
    {
     "data": {
      "text/plain": [
       "['loss', 'mean_squared_error']"
      ]
     },
     "execution_count": 22,
     "metadata": {},
     "output_type": "execute_result"
    }
   ],
   "source": [
    "model.metrics_names"
   ]
  },
  {
   "cell_type": "code",
   "execution_count": 23,
   "id": "b5a88e67",
   "metadata": {
    "ExecuteTime": {
     "end_time": "2022-01-07T12:47:29.744391Z",
     "start_time": "2022-01-07T12:47:29.723849Z"
    }
   },
   "outputs": [
    {
     "data": {
      "text/plain": [
       "dict_keys([])"
      ]
     },
     "execution_count": 23,
     "metadata": {},
     "output_type": "execute_result"
    }
   ],
   "source": [
    "model.history.history.keys()"
   ]
  },
  {
   "cell_type": "code",
   "execution_count": 24,
   "id": "0bda2170",
   "metadata": {
    "ExecuteTime": {
     "end_time": "2022-01-07T12:47:51.059964Z",
     "start_time": "2022-01-07T12:47:50.404913Z"
    }
   },
   "outputs": [
    {
     "data": {
      "image/png": "[encoded data removed]",
      "text/plain": [
       "<Figure size 432x288 with 1 Axes>"
      ]
     },
     "metadata": {
      "needs_background": "light"
     },
     "output_type": "display_data"
    },
    {
     "data": {
      "image/png": "[encoded data removed]",
      "text/plain": [
       "<Figure size 432x288 with 1 Axes>"
      ]
     },
     "metadata": {
      "needs_background": "light"
     },
     "output_type": "display_data"
    }
   ],
   "source": [
    "import matplotlib.pyplot as plt\n",
    "%matplotlib inline\n",
    "plt.plot(history.history['mean_squared_error'])\n",
    "plt.plot(history.history['val_mean_squared_error'])\n",
    "plt.title('model mean_squared_error')\n",
    "plt.ylabel('mean_squared_error')\n",
    "plt.xlabel('epoch')\n",
    "plt.legend(['train', 'test'], loc='upper left')\n",
    "plt.show()\n",
    "plt.plot(history.history['loss'])\n",
    "plt.plot(history.history['val_loss'])\n",
    "plt.title('model loss')\n",
    "plt.ylabel('loss')\n",
    "plt.xlabel('epoch')\n",
    "plt.legend(['train', 'test'], loc='upper left')\n",
    "plt.show()"
   ]
  },
  {
   "cell_type": "code",
   "execution_count": null,
   "id": "e0849acd",
   "metadata": {},
   "outputs": [],
   "source": []
  }
 ],
 "metadata": {
  "kernelspec": {
   "display_name": "Python 3 (ipykernel)",
   "language": "python",
   "name": "python3"
  },
  "language_info": {
   "codemirror_mode": {
    "name": "ipython",
    "version": 3
   },
   "file_extension": ".py",
   "mimetype": "text/x-python",
   "name": "python",
   "nbconvert_exporter": "python",
   "pygments_lexer": "ipython3",
   "version": "3.9.7"
  }
 },
 "nbformat": 4,
 "nbformat_minor": 5
}
