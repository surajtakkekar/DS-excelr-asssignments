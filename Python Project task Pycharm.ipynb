{
 "cells": [
  {
   "cell_type": "code",
   "execution_count": null,
   "id": "da5741c0",
   "metadata": {},
   "outputs": [],
   "source": [
    "from tkinter import *\n",
    "from PIL import ImageTk,Image\n",
    "from tkinter.filedialog import asksaveasfile\n",
    "\n",
    "root = Tk()\n",
    "root.geometry('300x300')\n",
    "def save():\n",
    "\tFiles = [('All Files', '*.*'),\n",
    "\t\t\t('Python Files', '*.py'),\n",
    "\t\t\t('Text Document', '*.txt')]\n",
    "\tfile = asksaveasfile(filetypes = Files, defaultextension = Files)\n",
    "\n",
    "button = Button(root, text = 'Save', command = lambda : save())\n",
    "button.pack(side = BOTTOM, pady = 20)\n",
    "\n",
    "\n",
    "root.title('TITLE ')\n",
    "IMG = ImageTk.PhotoImage(Image.open(\"dog_PNG50322.png\"))\n",
    "my_label = Label(image=IMG)\n",
    "my_label.pack()\n",
    "\n",
    "exit_button = Button(root,text='close',command=root.quit)\n",
    "exit_button.pack(pady=20)\n",
    "\n",
    "mainloop()\n",
    "exit(0)\n"
   ]
  }
 ],
 "metadata": {
  "kernelspec": {
   "display_name": "Python 3 (ipykernel)",
   "language": "python",
   "name": "python3"
  },
  "language_info": {
   "codemirror_mode": {
    "name": "ipython",
    "version": 3
   },
   "file_extension": ".py",
   "mimetype": "text/x-python",
   "name": "python",
   "nbconvert_exporter": "python",
   "pygments_lexer": "ipython3",
   "version": "3.9.7"
  }
 },
 "nbformat": 4,
 "nbformat_minor": 5
}
