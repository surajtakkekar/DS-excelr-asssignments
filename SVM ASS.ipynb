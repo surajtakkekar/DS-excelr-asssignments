{
 "cells": [
  {
   "cell_type": "code",
   "execution_count": 49,
   "id": "b789a3f6",
   "metadata": {
    "ExecuteTime": {
     "end_time": "2022-01-05T07:03:55.358961Z",
     "start_time": "2022-01-05T07:03:55.350979Z"
    }
   },
   "outputs": [],
   "source": [
    "import pandas as pd \n",
    "import seaborn as sns \n",
    "import matplotlib.pyplot as plt \n",
    "import numpy as np\n",
    "from sklearn.metrics import accuracy_score\n",
    "from sklearn.preprocessing import StandardScaler \n",
    "from sklearn.model_selection import train_test_split\n",
    "from sklearn.metrics import classification_report\n",
    "from sklearn.svm import SVC\n",
    "from sklearn.metrics import confusion_matrix"
   ]
  },
  {
   "cell_type": "code",
   "execution_count": 5,
   "id": "4e0b3344",
   "metadata": {
    "ExecuteTime": {
     "end_time": "2022-01-05T06:07:33.547862Z",
     "start_time": "2022-01-05T06:07:33.255896Z"
    }
   },
   "outputs": [
    {
     "data": {
      "text/html": [
       "<div>\n",
       "<style scoped>\n",
       "    .dataframe tbody tr th:only-of-type {\n",
       "        vertical-align: middle;\n",
       "    }\n",
       "\n",
       "    .dataframe tbody tr th {\n",
       "        vertical-align: top;\n",
       "    }\n",
       "\n",
       "    .dataframe thead th {\n",
       "        text-align: right;\n",
       "    }\n",
       "</style>\n",
       "<table border=\"1\" class=\"dataframe\">\n",
       "  <thead>\n",
       "    <tr style=\"text-align: right;\">\n",
       "      <th></th>\n",
       "      <th>month</th>\n",
       "      <th>day</th>\n",
       "      <th>FFMC</th>\n",
       "      <th>DMC</th>\n",
       "      <th>DC</th>\n",
       "      <th>ISI</th>\n",
       "      <th>temp</th>\n",
       "      <th>RH</th>\n",
       "      <th>wind</th>\n",
       "      <th>rain</th>\n",
       "      <th>...</th>\n",
       "      <th>monthfeb</th>\n",
       "      <th>monthjan</th>\n",
       "      <th>monthjul</th>\n",
       "      <th>monthjun</th>\n",
       "      <th>monthmar</th>\n",
       "      <th>monthmay</th>\n",
       "      <th>monthnov</th>\n",
       "      <th>monthoct</th>\n",
       "      <th>monthsep</th>\n",
       "      <th>size_category</th>\n",
       "    </tr>\n",
       "  </thead>\n",
       "  <tbody>\n",
       "    <tr>\n",
       "      <th>0</th>\n",
       "      <td>mar</td>\n",
       "      <td>fri</td>\n",
       "      <td>86.2</td>\n",
       "      <td>26.2</td>\n",
       "      <td>94.3</td>\n",
       "      <td>5.1</td>\n",
       "      <td>8.2</td>\n",
       "      <td>51</td>\n",
       "      <td>6.7</td>\n",
       "      <td>0.0</td>\n",
       "      <td>...</td>\n",
       "      <td>0</td>\n",
       "      <td>0</td>\n",
       "      <td>0</td>\n",
       "      <td>0</td>\n",
       "      <td>1</td>\n",
       "      <td>0</td>\n",
       "      <td>0</td>\n",
       "      <td>0</td>\n",
       "      <td>0</td>\n",
       "      <td>small</td>\n",
       "    </tr>\n",
       "    <tr>\n",
       "      <th>1</th>\n",
       "      <td>oct</td>\n",
       "      <td>tue</td>\n",
       "      <td>90.6</td>\n",
       "      <td>35.4</td>\n",
       "      <td>669.1</td>\n",
       "      <td>6.7</td>\n",
       "      <td>18.0</td>\n",
       "      <td>33</td>\n",
       "      <td>0.9</td>\n",
       "      <td>0.0</td>\n",
       "      <td>...</td>\n",
       "      <td>0</td>\n",
       "      <td>0</td>\n",
       "      <td>0</td>\n",
       "      <td>0</td>\n",
       "      <td>0</td>\n",
       "      <td>0</td>\n",
       "      <td>0</td>\n",
       "      <td>1</td>\n",
       "      <td>0</td>\n",
       "      <td>small</td>\n",
       "    </tr>\n",
       "    <tr>\n",
       "      <th>2</th>\n",
       "      <td>oct</td>\n",
       "      <td>sat</td>\n",
       "      <td>90.6</td>\n",
       "      <td>43.7</td>\n",
       "      <td>686.9</td>\n",
       "      <td>6.7</td>\n",
       "      <td>14.6</td>\n",
       "      <td>33</td>\n",
       "      <td>1.3</td>\n",
       "      <td>0.0</td>\n",
       "      <td>...</td>\n",
       "      <td>0</td>\n",
       "      <td>0</td>\n",
       "      <td>0</td>\n",
       "      <td>0</td>\n",
       "      <td>0</td>\n",
       "      <td>0</td>\n",
       "      <td>0</td>\n",
       "      <td>1</td>\n",
       "      <td>0</td>\n",
       "      <td>small</td>\n",
       "    </tr>\n",
       "    <tr>\n",
       "      <th>3</th>\n",
       "      <td>mar</td>\n",
       "      <td>fri</td>\n",
       "      <td>91.7</td>\n",
       "      <td>33.3</td>\n",
       "      <td>77.5</td>\n",
       "      <td>9.0</td>\n",
       "      <td>8.3</td>\n",
       "      <td>97</td>\n",
       "      <td>4.0</td>\n",
       "      <td>0.2</td>\n",
       "      <td>...</td>\n",
       "      <td>0</td>\n",
       "      <td>0</td>\n",
       "      <td>0</td>\n",
       "      <td>0</td>\n",
       "      <td>1</td>\n",
       "      <td>0</td>\n",
       "      <td>0</td>\n",
       "      <td>0</td>\n",
       "      <td>0</td>\n",
       "      <td>small</td>\n",
       "    </tr>\n",
       "    <tr>\n",
       "      <th>4</th>\n",
       "      <td>mar</td>\n",
       "      <td>sun</td>\n",
       "      <td>89.3</td>\n",
       "      <td>51.3</td>\n",
       "      <td>102.2</td>\n",
       "      <td>9.6</td>\n",
       "      <td>11.4</td>\n",
       "      <td>99</td>\n",
       "      <td>1.8</td>\n",
       "      <td>0.0</td>\n",
       "      <td>...</td>\n",
       "      <td>0</td>\n",
       "      <td>0</td>\n",
       "      <td>0</td>\n",
       "      <td>0</td>\n",
       "      <td>1</td>\n",
       "      <td>0</td>\n",
       "      <td>0</td>\n",
       "      <td>0</td>\n",
       "      <td>0</td>\n",
       "      <td>small</td>\n",
       "    </tr>\n",
       "  </tbody>\n",
       "</table>\n",
       "<p>5 rows × 31 columns</p>\n",
       "</div>"
      ],
      "text/plain": [
       "  month  day  FFMC   DMC     DC  ISI  temp  RH  wind  rain  ...  monthfeb  \\\n",
       "0   mar  fri  86.2  26.2   94.3  5.1   8.2  51   6.7   0.0  ...         0   \n",
       "1   oct  tue  90.6  35.4  669.1  6.7  18.0  33   0.9   0.0  ...         0   \n",
       "2   oct  sat  90.6  43.7  686.9  6.7  14.6  33   1.3   0.0  ...         0   \n",
       "3   mar  fri  91.7  33.3   77.5  9.0   8.3  97   4.0   0.2  ...         0   \n",
       "4   mar  sun  89.3  51.3  102.2  9.6  11.4  99   1.8   0.0  ...         0   \n",
       "\n",
       "   monthjan  monthjul  monthjun  monthmar  monthmay  monthnov  monthoct  \\\n",
       "0         0         0         0         1         0         0         0   \n",
       "1         0         0         0         0         0         0         1   \n",
       "2         0         0         0         0         0         0         1   \n",
       "3         0         0         0         1         0         0         0   \n",
       "4         0         0         0         1         0         0         0   \n",
       "\n",
       "   monthsep  size_category  \n",
       "0         0          small  \n",
       "1         0          small  \n",
       "2         0          small  \n",
       "3         0          small  \n",
       "4         0          small  \n",
       "\n",
       "[5 rows x 31 columns]"
      ]
     },
     "execution_count": 5,
     "metadata": {},
     "output_type": "execute_result"
    }
   ],
   "source": [
    "data = pd.read_csv(\"forestfires.csv\")\n",
    "data.head()"
   ]
  },
  {
   "cell_type": "code",
   "execution_count": 6,
   "id": "dddaa600",
   "metadata": {
    "ExecuteTime": {
     "end_time": "2022-01-05T06:07:57.480188Z",
     "start_time": "2022-01-05T06:07:57.289038Z"
    }
   },
   "outputs": [
    {
     "name": "stdout",
     "output_type": "stream",
     "text": [
      "<class 'pandas.core.frame.DataFrame'>\n",
      "RangeIndex: 517 entries, 0 to 516\n",
      "Data columns (total 31 columns):\n",
      " #   Column         Non-Null Count  Dtype  \n",
      "---  ------         --------------  -----  \n",
      " 0   month          517 non-null    object \n",
      " 1   day            517 non-null    object \n",
      " 2   FFMC           517 non-null    float64\n",
      " 3   DMC            517 non-null    float64\n",
      " 4   DC             517 non-null    float64\n",
      " 5   ISI            517 non-null    float64\n",
      " 6   temp           517 non-null    float64\n",
      " 7   RH             517 non-null    int64  \n",
      " 8   wind           517 non-null    float64\n",
      " 9   rain           517 non-null    float64\n",
      " 10  area           517 non-null    float64\n",
      " 11  dayfri         517 non-null    int64  \n",
      " 12  daymon         517 non-null    int64  \n",
      " 13  daysat         517 non-null    int64  \n",
      " 14  daysun         517 non-null    int64  \n",
      " 15  daythu         517 non-null    int64  \n",
      " 16  daytue         517 non-null    int64  \n",
      " 17  daywed         517 non-null    int64  \n",
      " 18  monthapr       517 non-null    int64  \n",
      " 19  monthaug       517 non-null    int64  \n",
      " 20  monthdec       517 non-null    int64  \n",
      " 21  monthfeb       517 non-null    int64  \n",
      " 22  monthjan       517 non-null    int64  \n",
      " 23  monthjul       517 non-null    int64  \n",
      " 24  monthjun       517 non-null    int64  \n",
      " 25  monthmar       517 non-null    int64  \n",
      " 26  monthmay       517 non-null    int64  \n",
      " 27  monthnov       517 non-null    int64  \n",
      " 28  monthoct       517 non-null    int64  \n",
      " 29  monthsep       517 non-null    int64  \n",
      " 30  size_category  517 non-null    object \n",
      "dtypes: float64(8), int64(20), object(3)\n",
      "memory usage: 125.3+ KB\n"
     ]
    }
   ],
   "source": [
    "data.info()"
   ]
  },
  {
   "cell_type": "code",
   "execution_count": 8,
   "id": "dc4ae23a",
   "metadata": {
    "ExecuteTime": {
     "end_time": "2022-01-05T06:08:30.549398Z",
     "start_time": "2022-01-05T06:08:30.517159Z"
    }
   },
   "outputs": [
    {
     "data": {
      "text/plain": [
       "month            0\n",
       "day              0\n",
       "FFMC             0\n",
       "DMC              0\n",
       "DC               0\n",
       "ISI              0\n",
       "temp             0\n",
       "RH               0\n",
       "wind             0\n",
       "rain             0\n",
       "area             0\n",
       "dayfri           0\n",
       "daymon           0\n",
       "daysat           0\n",
       "daysun           0\n",
       "daythu           0\n",
       "daytue           0\n",
       "daywed           0\n",
       "monthapr         0\n",
       "monthaug         0\n",
       "monthdec         0\n",
       "monthfeb         0\n",
       "monthjan         0\n",
       "monthjul         0\n",
       "monthjun         0\n",
       "monthmar         0\n",
       "monthmay         0\n",
       "monthnov         0\n",
       "monthoct         0\n",
       "monthsep         0\n",
       "size_category    0\n",
       "dtype: int64"
      ]
     },
     "execution_count": 8,
     "metadata": {},
     "output_type": "execute_result"
    }
   ],
   "source": [
    "data.isnull().sum()"
   ]
  },
  {
   "cell_type": "code",
   "execution_count": 10,
   "id": "01f08bbe",
   "metadata": {
    "ExecuteTime": {
     "end_time": "2022-01-05T06:11:00.575258Z",
     "start_time": "2022-01-05T06:11:00.567259Z"
    }
   },
   "outputs": [],
   "source": [
    "scale= StandardScaler()"
   ]
  },
  {
   "cell_type": "code",
   "execution_count": 16,
   "id": "12f37383",
   "metadata": {
    "ExecuteTime": {
     "end_time": "2022-01-05T06:16:52.042646Z",
     "start_time": "2022-01-05T06:16:52.017479Z"
    }
   },
   "outputs": [
    {
     "data": {
      "text/html": [
       "<div>\n",
       "<style scoped>\n",
       "    .dataframe tbody tr th:only-of-type {\n",
       "        vertical-align: middle;\n",
       "    }\n",
       "\n",
       "    .dataframe tbody tr th {\n",
       "        vertical-align: top;\n",
       "    }\n",
       "\n",
       "    .dataframe thead th {\n",
       "        text-align: right;\n",
       "    }\n",
       "</style>\n",
       "<table border=\"1\" class=\"dataframe\">\n",
       "  <thead>\n",
       "    <tr style=\"text-align: right;\">\n",
       "      <th></th>\n",
       "      <th>small</th>\n",
       "    </tr>\n",
       "  </thead>\n",
       "  <tbody>\n",
       "    <tr>\n",
       "      <th>512</th>\n",
       "      <td>0</td>\n",
       "    </tr>\n",
       "    <tr>\n",
       "      <th>513</th>\n",
       "      <td>0</td>\n",
       "    </tr>\n",
       "    <tr>\n",
       "      <th>514</th>\n",
       "      <td>0</td>\n",
       "    </tr>\n",
       "    <tr>\n",
       "      <th>515</th>\n",
       "      <td>1</td>\n",
       "    </tr>\n",
       "    <tr>\n",
       "      <th>516</th>\n",
       "      <td>1</td>\n",
       "    </tr>\n",
       "  </tbody>\n",
       "</table>\n",
       "</div>"
      ],
      "text/plain": [
       "     small\n",
       "512      0\n",
       "513      0\n",
       "514      0\n",
       "515      1\n",
       "516      1"
      ]
     },
     "execution_count": 16,
     "metadata": {},
     "output_type": "execute_result"
    }
   ],
   "source": [
    "D = pd.get_dummies(data['size_category'],drop_first=True)\n",
    "D.tail()"
   ]
  },
  {
   "cell_type": "code",
   "execution_count": 18,
   "id": "04dced29",
   "metadata": {
    "ExecuteTime": {
     "end_time": "2022-01-05T06:17:27.681790Z",
     "start_time": "2022-01-05T06:17:27.502501Z"
    }
   },
   "outputs": [
    {
     "data": {
      "text/html": [
       "<div>\n",
       "<style scoped>\n",
       "    .dataframe tbody tr th:only-of-type {\n",
       "        vertical-align: middle;\n",
       "    }\n",
       "\n",
       "    .dataframe tbody tr th {\n",
       "        vertical-align: top;\n",
       "    }\n",
       "\n",
       "    .dataframe thead th {\n",
       "        text-align: right;\n",
       "    }\n",
       "</style>\n",
       "<table border=\"1\" class=\"dataframe\">\n",
       "  <thead>\n",
       "    <tr style=\"text-align: right;\">\n",
       "      <th></th>\n",
       "      <th>month</th>\n",
       "      <th>day</th>\n",
       "      <th>FFMC</th>\n",
       "      <th>DMC</th>\n",
       "      <th>DC</th>\n",
       "      <th>ISI</th>\n",
       "      <th>temp</th>\n",
       "      <th>RH</th>\n",
       "      <th>wind</th>\n",
       "      <th>rain</th>\n",
       "      <th>...</th>\n",
       "      <th>monthjan</th>\n",
       "      <th>monthjul</th>\n",
       "      <th>monthjun</th>\n",
       "      <th>monthmar</th>\n",
       "      <th>monthmay</th>\n",
       "      <th>monthnov</th>\n",
       "      <th>monthoct</th>\n",
       "      <th>monthsep</th>\n",
       "      <th>size_category</th>\n",
       "      <th>small</th>\n",
       "    </tr>\n",
       "  </thead>\n",
       "  <tbody>\n",
       "    <tr>\n",
       "      <th>0</th>\n",
       "      <td>mar</td>\n",
       "      <td>fri</td>\n",
       "      <td>86.2</td>\n",
       "      <td>26.2</td>\n",
       "      <td>94.3</td>\n",
       "      <td>5.1</td>\n",
       "      <td>8.2</td>\n",
       "      <td>51</td>\n",
       "      <td>6.7</td>\n",
       "      <td>0.0</td>\n",
       "      <td>...</td>\n",
       "      <td>0</td>\n",
       "      <td>0</td>\n",
       "      <td>0</td>\n",
       "      <td>1</td>\n",
       "      <td>0</td>\n",
       "      <td>0</td>\n",
       "      <td>0</td>\n",
       "      <td>0</td>\n",
       "      <td>small</td>\n",
       "      <td>1</td>\n",
       "    </tr>\n",
       "    <tr>\n",
       "      <th>1</th>\n",
       "      <td>oct</td>\n",
       "      <td>tue</td>\n",
       "      <td>90.6</td>\n",
       "      <td>35.4</td>\n",
       "      <td>669.1</td>\n",
       "      <td>6.7</td>\n",
       "      <td>18.0</td>\n",
       "      <td>33</td>\n",
       "      <td>0.9</td>\n",
       "      <td>0.0</td>\n",
       "      <td>...</td>\n",
       "      <td>0</td>\n",
       "      <td>0</td>\n",
       "      <td>0</td>\n",
       "      <td>0</td>\n",
       "      <td>0</td>\n",
       "      <td>0</td>\n",
       "      <td>1</td>\n",
       "      <td>0</td>\n",
       "      <td>small</td>\n",
       "      <td>1</td>\n",
       "    </tr>\n",
       "    <tr>\n",
       "      <th>2</th>\n",
       "      <td>oct</td>\n",
       "      <td>sat</td>\n",
       "      <td>90.6</td>\n",
       "      <td>43.7</td>\n",
       "      <td>686.9</td>\n",
       "      <td>6.7</td>\n",
       "      <td>14.6</td>\n",
       "      <td>33</td>\n",
       "      <td>1.3</td>\n",
       "      <td>0.0</td>\n",
       "      <td>...</td>\n",
       "      <td>0</td>\n",
       "      <td>0</td>\n",
       "      <td>0</td>\n",
       "      <td>0</td>\n",
       "      <td>0</td>\n",
       "      <td>0</td>\n",
       "      <td>1</td>\n",
       "      <td>0</td>\n",
       "      <td>small</td>\n",
       "      <td>1</td>\n",
       "    </tr>\n",
       "    <tr>\n",
       "      <th>3</th>\n",
       "      <td>mar</td>\n",
       "      <td>fri</td>\n",
       "      <td>91.7</td>\n",
       "      <td>33.3</td>\n",
       "      <td>77.5</td>\n",
       "      <td>9.0</td>\n",
       "      <td>8.3</td>\n",
       "      <td>97</td>\n",
       "      <td>4.0</td>\n",
       "      <td>0.2</td>\n",
       "      <td>...</td>\n",
       "      <td>0</td>\n",
       "      <td>0</td>\n",
       "      <td>0</td>\n",
       "      <td>1</td>\n",
       "      <td>0</td>\n",
       "      <td>0</td>\n",
       "      <td>0</td>\n",
       "      <td>0</td>\n",
       "      <td>small</td>\n",
       "      <td>1</td>\n",
       "    </tr>\n",
       "    <tr>\n",
       "      <th>4</th>\n",
       "      <td>mar</td>\n",
       "      <td>sun</td>\n",
       "      <td>89.3</td>\n",
       "      <td>51.3</td>\n",
       "      <td>102.2</td>\n",
       "      <td>9.6</td>\n",
       "      <td>11.4</td>\n",
       "      <td>99</td>\n",
       "      <td>1.8</td>\n",
       "      <td>0.0</td>\n",
       "      <td>...</td>\n",
       "      <td>0</td>\n",
       "      <td>0</td>\n",
       "      <td>0</td>\n",
       "      <td>1</td>\n",
       "      <td>0</td>\n",
       "      <td>0</td>\n",
       "      <td>0</td>\n",
       "      <td>0</td>\n",
       "      <td>small</td>\n",
       "      <td>1</td>\n",
       "    </tr>\n",
       "    <tr>\n",
       "      <th>...</th>\n",
       "      <td>...</td>\n",
       "      <td>...</td>\n",
       "      <td>...</td>\n",
       "      <td>...</td>\n",
       "      <td>...</td>\n",
       "      <td>...</td>\n",
       "      <td>...</td>\n",
       "      <td>...</td>\n",
       "      <td>...</td>\n",
       "      <td>...</td>\n",
       "      <td>...</td>\n",
       "      <td>...</td>\n",
       "      <td>...</td>\n",
       "      <td>...</td>\n",
       "      <td>...</td>\n",
       "      <td>...</td>\n",
       "      <td>...</td>\n",
       "      <td>...</td>\n",
       "      <td>...</td>\n",
       "      <td>...</td>\n",
       "      <td>...</td>\n",
       "    </tr>\n",
       "    <tr>\n",
       "      <th>512</th>\n",
       "      <td>aug</td>\n",
       "      <td>sun</td>\n",
       "      <td>81.6</td>\n",
       "      <td>56.7</td>\n",
       "      <td>665.6</td>\n",
       "      <td>1.9</td>\n",
       "      <td>27.8</td>\n",
       "      <td>32</td>\n",
       "      <td>2.7</td>\n",
       "      <td>0.0</td>\n",
       "      <td>...</td>\n",
       "      <td>0</td>\n",
       "      <td>0</td>\n",
       "      <td>0</td>\n",
       "      <td>0</td>\n",
       "      <td>0</td>\n",
       "      <td>0</td>\n",
       "      <td>0</td>\n",
       "      <td>0</td>\n",
       "      <td>large</td>\n",
       "      <td>0</td>\n",
       "    </tr>\n",
       "    <tr>\n",
       "      <th>513</th>\n",
       "      <td>aug</td>\n",
       "      <td>sun</td>\n",
       "      <td>81.6</td>\n",
       "      <td>56.7</td>\n",
       "      <td>665.6</td>\n",
       "      <td>1.9</td>\n",
       "      <td>21.9</td>\n",
       "      <td>71</td>\n",
       "      <td>5.8</td>\n",
       "      <td>0.0</td>\n",
       "      <td>...</td>\n",
       "      <td>0</td>\n",
       "      <td>0</td>\n",
       "      <td>0</td>\n",
       "      <td>0</td>\n",
       "      <td>0</td>\n",
       "      <td>0</td>\n",
       "      <td>0</td>\n",
       "      <td>0</td>\n",
       "      <td>large</td>\n",
       "      <td>0</td>\n",
       "    </tr>\n",
       "    <tr>\n",
       "      <th>514</th>\n",
       "      <td>aug</td>\n",
       "      <td>sun</td>\n",
       "      <td>81.6</td>\n",
       "      <td>56.7</td>\n",
       "      <td>665.6</td>\n",
       "      <td>1.9</td>\n",
       "      <td>21.2</td>\n",
       "      <td>70</td>\n",
       "      <td>6.7</td>\n",
       "      <td>0.0</td>\n",
       "      <td>...</td>\n",
       "      <td>0</td>\n",
       "      <td>0</td>\n",
       "      <td>0</td>\n",
       "      <td>0</td>\n",
       "      <td>0</td>\n",
       "      <td>0</td>\n",
       "      <td>0</td>\n",
       "      <td>0</td>\n",
       "      <td>large</td>\n",
       "      <td>0</td>\n",
       "    </tr>\n",
       "    <tr>\n",
       "      <th>515</th>\n",
       "      <td>aug</td>\n",
       "      <td>sat</td>\n",
       "      <td>94.4</td>\n",
       "      <td>146.0</td>\n",
       "      <td>614.7</td>\n",
       "      <td>11.3</td>\n",
       "      <td>25.6</td>\n",
       "      <td>42</td>\n",
       "      <td>4.0</td>\n",
       "      <td>0.0</td>\n",
       "      <td>...</td>\n",
       "      <td>0</td>\n",
       "      <td>0</td>\n",
       "      <td>0</td>\n",
       "      <td>0</td>\n",
       "      <td>0</td>\n",
       "      <td>0</td>\n",
       "      <td>0</td>\n",
       "      <td>0</td>\n",
       "      <td>small</td>\n",
       "      <td>1</td>\n",
       "    </tr>\n",
       "    <tr>\n",
       "      <th>516</th>\n",
       "      <td>nov</td>\n",
       "      <td>tue</td>\n",
       "      <td>79.5</td>\n",
       "      <td>3.0</td>\n",
       "      <td>106.7</td>\n",
       "      <td>1.1</td>\n",
       "      <td>11.8</td>\n",
       "      <td>31</td>\n",
       "      <td>4.5</td>\n",
       "      <td>0.0</td>\n",
       "      <td>...</td>\n",
       "      <td>0</td>\n",
       "      <td>0</td>\n",
       "      <td>0</td>\n",
       "      <td>0</td>\n",
       "      <td>0</td>\n",
       "      <td>1</td>\n",
       "      <td>0</td>\n",
       "      <td>0</td>\n",
       "      <td>small</td>\n",
       "      <td>1</td>\n",
       "    </tr>\n",
       "  </tbody>\n",
       "</table>\n",
       "<p>517 rows × 32 columns</p>\n",
       "</div>"
      ],
      "text/plain": [
       "    month  day  FFMC    DMC     DC   ISI  temp  RH  wind  rain  ...  monthjan  \\\n",
       "0     mar  fri  86.2   26.2   94.3   5.1   8.2  51   6.7   0.0  ...         0   \n",
       "1     oct  tue  90.6   35.4  669.1   6.7  18.0  33   0.9   0.0  ...         0   \n",
       "2     oct  sat  90.6   43.7  686.9   6.7  14.6  33   1.3   0.0  ...         0   \n",
       "3     mar  fri  91.7   33.3   77.5   9.0   8.3  97   4.0   0.2  ...         0   \n",
       "4     mar  sun  89.3   51.3  102.2   9.6  11.4  99   1.8   0.0  ...         0   \n",
       "..    ...  ...   ...    ...    ...   ...   ...  ..   ...   ...  ...       ...   \n",
       "512   aug  sun  81.6   56.7  665.6   1.9  27.8  32   2.7   0.0  ...         0   \n",
       "513   aug  sun  81.6   56.7  665.6   1.9  21.9  71   5.8   0.0  ...         0   \n",
       "514   aug  sun  81.6   56.7  665.6   1.9  21.2  70   6.7   0.0  ...         0   \n",
       "515   aug  sat  94.4  146.0  614.7  11.3  25.6  42   4.0   0.0  ...         0   \n",
       "516   nov  tue  79.5    3.0  106.7   1.1  11.8  31   4.5   0.0  ...         0   \n",
       "\n",
       "     monthjul  monthjun  monthmar  monthmay  monthnov  monthoct  monthsep  \\\n",
       "0           0         0         1         0         0         0         0   \n",
       "1           0         0         0         0         0         1         0   \n",
       "2           0         0         0         0         0         1         0   \n",
       "3           0         0         1         0         0         0         0   \n",
       "4           0         0         1         0         0         0         0   \n",
       "..        ...       ...       ...       ...       ...       ...       ...   \n",
       "512         0         0         0         0         0         0         0   \n",
       "513         0         0         0         0         0         0         0   \n",
       "514         0         0         0         0         0         0         0   \n",
       "515         0         0         0         0         0         0         0   \n",
       "516         0         0         0         0         1         0         0   \n",
       "\n",
       "     size_category  small  \n",
       "0            small      1  \n",
       "1            small      1  \n",
       "2            small      1  \n",
       "3            small      1  \n",
       "4            small      1  \n",
       "..             ...    ...  \n",
       "512          large      0  \n",
       "513          large      0  \n",
       "514          large      0  \n",
       "515          small      1  \n",
       "516          small      1  \n",
       "\n",
       "[517 rows x 32 columns]"
      ]
     },
     "execution_count": 18,
     "metadata": {},
     "output_type": "execute_result"
    }
   ],
   "source": [
    "DATA = pd.concat([data, D], axis = 1)\n",
    "DATA"
   ]
  },
  {
   "cell_type": "code",
   "execution_count": 22,
   "id": "38b0ee0b",
   "metadata": {
    "ExecuteTime": {
     "end_time": "2022-01-05T06:45:29.607919Z",
     "start_time": "2022-01-05T06:45:29.582342Z"
    }
   },
   "outputs": [],
   "source": [
    "X = data.iloc[:, 18:-1]\n",
    "y = DATA['small']"
   ]
  },
  {
   "cell_type": "code",
   "execution_count": 24,
   "id": "c9d32b47",
   "metadata": {
    "ExecuteTime": {
     "end_time": "2022-01-05T06:45:44.365454Z",
     "start_time": "2022-01-05T06:45:44.297651Z"
    }
   },
   "outputs": [
    {
     "data": {
      "text/html": [
       "<div>\n",
       "<style scoped>\n",
       "    .dataframe tbody tr th:only-of-type {\n",
       "        vertical-align: middle;\n",
       "    }\n",
       "\n",
       "    .dataframe tbody tr th {\n",
       "        vertical-align: top;\n",
       "    }\n",
       "\n",
       "    .dataframe thead th {\n",
       "        text-align: right;\n",
       "    }\n",
       "</style>\n",
       "<table border=\"1\" class=\"dataframe\">\n",
       "  <thead>\n",
       "    <tr style=\"text-align: right;\">\n",
       "      <th></th>\n",
       "      <th>monthapr</th>\n",
       "      <th>monthaug</th>\n",
       "      <th>monthdec</th>\n",
       "      <th>monthfeb</th>\n",
       "      <th>monthjan</th>\n",
       "      <th>monthjul</th>\n",
       "      <th>monthjun</th>\n",
       "      <th>monthmar</th>\n",
       "      <th>monthmay</th>\n",
       "      <th>monthnov</th>\n",
       "      <th>monthoct</th>\n",
       "      <th>monthsep</th>\n",
       "    </tr>\n",
       "  </thead>\n",
       "  <tbody>\n",
       "    <tr>\n",
       "      <th>254</th>\n",
       "      <td>0</td>\n",
       "      <td>1</td>\n",
       "      <td>0</td>\n",
       "      <td>0</td>\n",
       "      <td>0</td>\n",
       "      <td>0</td>\n",
       "      <td>0</td>\n",
       "      <td>0</td>\n",
       "      <td>0</td>\n",
       "      <td>0</td>\n",
       "      <td>0</td>\n",
       "      <td>0</td>\n",
       "    </tr>\n",
       "    <tr>\n",
       "      <th>408</th>\n",
       "      <td>0</td>\n",
       "      <td>0</td>\n",
       "      <td>0</td>\n",
       "      <td>0</td>\n",
       "      <td>0</td>\n",
       "      <td>0</td>\n",
       "      <td>0</td>\n",
       "      <td>0</td>\n",
       "      <td>0</td>\n",
       "      <td>0</td>\n",
       "      <td>0</td>\n",
       "      <td>1</td>\n",
       "    </tr>\n",
       "    <tr>\n",
       "      <th>235</th>\n",
       "      <td>0</td>\n",
       "      <td>1</td>\n",
       "      <td>0</td>\n",
       "      <td>0</td>\n",
       "      <td>0</td>\n",
       "      <td>0</td>\n",
       "      <td>0</td>\n",
       "      <td>0</td>\n",
       "      <td>0</td>\n",
       "      <td>0</td>\n",
       "      <td>0</td>\n",
       "      <td>0</td>\n",
       "    </tr>\n",
       "    <tr>\n",
       "      <th>128</th>\n",
       "      <td>0</td>\n",
       "      <td>0</td>\n",
       "      <td>0</td>\n",
       "      <td>0</td>\n",
       "      <td>0</td>\n",
       "      <td>0</td>\n",
       "      <td>0</td>\n",
       "      <td>0</td>\n",
       "      <td>0</td>\n",
       "      <td>0</td>\n",
       "      <td>1</td>\n",
       "      <td>0</td>\n",
       "    </tr>\n",
       "    <tr>\n",
       "      <th>435</th>\n",
       "      <td>0</td>\n",
       "      <td>0</td>\n",
       "      <td>0</td>\n",
       "      <td>0</td>\n",
       "      <td>0</td>\n",
       "      <td>1</td>\n",
       "      <td>0</td>\n",
       "      <td>0</td>\n",
       "      <td>0</td>\n",
       "      <td>0</td>\n",
       "      <td>0</td>\n",
       "      <td>0</td>\n",
       "    </tr>\n",
       "    <tr>\n",
       "      <th>...</th>\n",
       "      <td>...</td>\n",
       "      <td>...</td>\n",
       "      <td>...</td>\n",
       "      <td>...</td>\n",
       "      <td>...</td>\n",
       "      <td>...</td>\n",
       "      <td>...</td>\n",
       "      <td>...</td>\n",
       "      <td>...</td>\n",
       "      <td>...</td>\n",
       "      <td>...</td>\n",
       "      <td>...</td>\n",
       "    </tr>\n",
       "    <tr>\n",
       "      <th>477</th>\n",
       "      <td>0</td>\n",
       "      <td>0</td>\n",
       "      <td>0</td>\n",
       "      <td>0</td>\n",
       "      <td>0</td>\n",
       "      <td>1</td>\n",
       "      <td>0</td>\n",
       "      <td>0</td>\n",
       "      <td>0</td>\n",
       "      <td>0</td>\n",
       "      <td>0</td>\n",
       "      <td>0</td>\n",
       "    </tr>\n",
       "    <tr>\n",
       "      <th>496</th>\n",
       "      <td>0</td>\n",
       "      <td>1</td>\n",
       "      <td>0</td>\n",
       "      <td>0</td>\n",
       "      <td>0</td>\n",
       "      <td>0</td>\n",
       "      <td>0</td>\n",
       "      <td>0</td>\n",
       "      <td>0</td>\n",
       "      <td>0</td>\n",
       "      <td>0</td>\n",
       "      <td>0</td>\n",
       "    </tr>\n",
       "    <tr>\n",
       "      <th>314</th>\n",
       "      <td>0</td>\n",
       "      <td>0</td>\n",
       "      <td>0</td>\n",
       "      <td>0</td>\n",
       "      <td>0</td>\n",
       "      <td>0</td>\n",
       "      <td>0</td>\n",
       "      <td>0</td>\n",
       "      <td>0</td>\n",
       "      <td>0</td>\n",
       "      <td>0</td>\n",
       "      <td>1</td>\n",
       "    </tr>\n",
       "    <tr>\n",
       "      <th>158</th>\n",
       "      <td>0</td>\n",
       "      <td>1</td>\n",
       "      <td>0</td>\n",
       "      <td>0</td>\n",
       "      <td>0</td>\n",
       "      <td>0</td>\n",
       "      <td>0</td>\n",
       "      <td>0</td>\n",
       "      <td>0</td>\n",
       "      <td>0</td>\n",
       "      <td>0</td>\n",
       "      <td>0</td>\n",
       "    </tr>\n",
       "    <tr>\n",
       "      <th>349</th>\n",
       "      <td>0</td>\n",
       "      <td>0</td>\n",
       "      <td>0</td>\n",
       "      <td>0</td>\n",
       "      <td>0</td>\n",
       "      <td>0</td>\n",
       "      <td>0</td>\n",
       "      <td>0</td>\n",
       "      <td>0</td>\n",
       "      <td>0</td>\n",
       "      <td>0</td>\n",
       "      <td>1</td>\n",
       "    </tr>\n",
       "  </tbody>\n",
       "</table>\n",
       "<p>130 rows × 12 columns</p>\n",
       "</div>"
      ],
      "text/plain": [
       "     monthapr  monthaug  monthdec  monthfeb  monthjan  monthjul  monthjun  \\\n",
       "254         0         1         0         0         0         0         0   \n",
       "408         0         0         0         0         0         0         0   \n",
       "235         0         1         0         0         0         0         0   \n",
       "128         0         0         0         0         0         0         0   \n",
       "435         0         0         0         0         0         1         0   \n",
       "..        ...       ...       ...       ...       ...       ...       ...   \n",
       "477         0         0         0         0         0         1         0   \n",
       "496         0         1         0         0         0         0         0   \n",
       "314         0         0         0         0         0         0         0   \n",
       "158         0         1         0         0         0         0         0   \n",
       "349         0         0         0         0         0         0         0   \n",
       "\n",
       "     monthmar  monthmay  monthnov  monthoct  monthsep  \n",
       "254         0         0         0         0         0  \n",
       "408         0         0         0         0         1  \n",
       "235         0         0         0         0         0  \n",
       "128         0         0         0         1         0  \n",
       "435         0         0         0         0         0  \n",
       "..        ...       ...       ...       ...       ...  \n",
       "477         0         0         0         0         0  \n",
       "496         0         0         0         0         0  \n",
       "314         0         0         0         0         1  \n",
       "158         0         0         0         0         0  \n",
       "349         0         0         0         0         1  \n",
       "\n",
       "[130 rows x 12 columns]"
      ]
     },
     "execution_count": 24,
     "metadata": {},
     "output_type": "execute_result"
    }
   ],
   "source": [
    "X_train, X_test, y_train, y_test = train_test_split(X, y, random_state = 15, test_size = 0.25)\n",
    "X_test"
   ]
  },
  {
   "cell_type": "code",
   "execution_count": 25,
   "id": "a6def975",
   "metadata": {
    "ExecuteTime": {
     "end_time": "2022-01-05T06:46:20.982115Z",
     "start_time": "2022-01-05T06:46:20.821054Z"
    }
   },
   "outputs": [
    {
     "data": {
      "text/plain": [
       "StandardScaler()"
      ]
     },
     "execution_count": 25,
     "metadata": {},
     "output_type": "execute_result"
    }
   ],
   "source": [
    "scale.fit(X_train)"
   ]
  },
  {
   "cell_type": "code",
   "execution_count": 27,
   "id": "52e6bd89",
   "metadata": {
    "ExecuteTime": {
     "end_time": "2022-01-05T06:46:58.557713Z",
     "start_time": "2022-01-05T06:46:58.533448Z"
    }
   },
   "outputs": [],
   "source": [
    "X_train_std = scale.transform(X_train)\n",
    "X_test_std = scale.transform(X_test)"
   ]
  },
  {
   "cell_type": "code",
   "execution_count": 28,
   "id": "a5342a34",
   "metadata": {
    "ExecuteTime": {
     "end_time": "2022-01-05T06:47:52.804882Z",
     "start_time": "2022-01-05T06:47:52.788185Z"
    }
   },
   "outputs": [],
   "source": [
    "X_train_df = pd.DataFrame(X_train_std, columns = X_train.columns)\n",
    "X_test_df = pd.DataFrame(X_test_std, columns = X_test.columns)"
   ]
  },
  {
   "cell_type": "code",
   "execution_count": 30,
   "id": "6369ee42",
   "metadata": {
    "ExecuteTime": {
     "end_time": "2022-01-05T06:48:59.222028Z",
     "start_time": "2022-01-05T06:48:59.189093Z"
    }
   },
   "outputs": [
    {
     "data": {
      "text/html": [
       "<div>\n",
       "<style scoped>\n",
       "    .dataframe tbody tr th:only-of-type {\n",
       "        vertical-align: middle;\n",
       "    }\n",
       "\n",
       "    .dataframe tbody tr th {\n",
       "        vertical-align: top;\n",
       "    }\n",
       "\n",
       "    .dataframe thead th {\n",
       "        text-align: right;\n",
       "    }\n",
       "</style>\n",
       "<table border=\"1\" class=\"dataframe\">\n",
       "  <thead>\n",
       "    <tr style=\"text-align: right;\">\n",
       "      <th></th>\n",
       "      <th>monthapr</th>\n",
       "      <th>monthaug</th>\n",
       "      <th>monthdec</th>\n",
       "      <th>monthfeb</th>\n",
       "      <th>monthjan</th>\n",
       "      <th>monthjul</th>\n",
       "      <th>monthjun</th>\n",
       "      <th>monthmar</th>\n",
       "      <th>monthmay</th>\n",
       "      <th>monthnov</th>\n",
       "      <th>monthoct</th>\n",
       "      <th>monthsep</th>\n",
       "    </tr>\n",
       "  </thead>\n",
       "  <tbody>\n",
       "    <tr>\n",
       "      <th>0</th>\n",
       "      <td>-0.145287</td>\n",
       "      <td>1.328264</td>\n",
       "      <td>-0.145287</td>\n",
       "      <td>-0.220863</td>\n",
       "      <td>-0.072075</td>\n",
       "      <td>-0.273861</td>\n",
       "      <td>-0.178885</td>\n",
       "      <td>-0.325137</td>\n",
       "      <td>-0.050899</td>\n",
       "      <td>0.0</td>\n",
       "      <td>-0.171042</td>\n",
       "      <td>-0.682575</td>\n",
       "    </tr>\n",
       "    <tr>\n",
       "      <th>1</th>\n",
       "      <td>-0.145287</td>\n",
       "      <td>-0.752862</td>\n",
       "      <td>-0.145287</td>\n",
       "      <td>-0.220863</td>\n",
       "      <td>-0.072075</td>\n",
       "      <td>-0.273861</td>\n",
       "      <td>-0.178885</td>\n",
       "      <td>-0.325137</td>\n",
       "      <td>-0.050899</td>\n",
       "      <td>0.0</td>\n",
       "      <td>-0.171042</td>\n",
       "      <td>1.465040</td>\n",
       "    </tr>\n",
       "    <tr>\n",
       "      <th>2</th>\n",
       "      <td>-0.145287</td>\n",
       "      <td>-0.752862</td>\n",
       "      <td>-0.145287</td>\n",
       "      <td>-0.220863</td>\n",
       "      <td>-0.072075</td>\n",
       "      <td>-0.273861</td>\n",
       "      <td>-0.178885</td>\n",
       "      <td>-0.325137</td>\n",
       "      <td>-0.050899</td>\n",
       "      <td>0.0</td>\n",
       "      <td>-0.171042</td>\n",
       "      <td>1.465040</td>\n",
       "    </tr>\n",
       "    <tr>\n",
       "      <th>3</th>\n",
       "      <td>-0.145287</td>\n",
       "      <td>1.328264</td>\n",
       "      <td>-0.145287</td>\n",
       "      <td>-0.220863</td>\n",
       "      <td>-0.072075</td>\n",
       "      <td>-0.273861</td>\n",
       "      <td>-0.178885</td>\n",
       "      <td>-0.325137</td>\n",
       "      <td>-0.050899</td>\n",
       "      <td>0.0</td>\n",
       "      <td>-0.171042</td>\n",
       "      <td>-0.682575</td>\n",
       "    </tr>\n",
       "    <tr>\n",
       "      <th>4</th>\n",
       "      <td>-0.145287</td>\n",
       "      <td>1.328264</td>\n",
       "      <td>-0.145287</td>\n",
       "      <td>-0.220863</td>\n",
       "      <td>-0.072075</td>\n",
       "      <td>-0.273861</td>\n",
       "      <td>-0.178885</td>\n",
       "      <td>-0.325137</td>\n",
       "      <td>-0.050899</td>\n",
       "      <td>0.0</td>\n",
       "      <td>-0.171042</td>\n",
       "      <td>-0.682575</td>\n",
       "    </tr>\n",
       "  </tbody>\n",
       "</table>\n",
       "</div>"
      ],
      "text/plain": [
       "   monthapr  monthaug  monthdec  monthfeb  monthjan  monthjul  monthjun  \\\n",
       "0 -0.145287  1.328264 -0.145287 -0.220863 -0.072075 -0.273861 -0.178885   \n",
       "1 -0.145287 -0.752862 -0.145287 -0.220863 -0.072075 -0.273861 -0.178885   \n",
       "2 -0.145287 -0.752862 -0.145287 -0.220863 -0.072075 -0.273861 -0.178885   \n",
       "3 -0.145287  1.328264 -0.145287 -0.220863 -0.072075 -0.273861 -0.178885   \n",
       "4 -0.145287  1.328264 -0.145287 -0.220863 -0.072075 -0.273861 -0.178885   \n",
       "\n",
       "   monthmar  monthmay  monthnov  monthoct  monthsep  \n",
       "0 -0.325137 -0.050899       0.0 -0.171042 -0.682575  \n",
       "1 -0.325137 -0.050899       0.0 -0.171042  1.465040  \n",
       "2 -0.325137 -0.050899       0.0 -0.171042  1.465040  \n",
       "3 -0.325137 -0.050899       0.0 -0.171042 -0.682575  \n",
       "4 -0.325137 -0.050899       0.0 -0.171042 -0.682575  "
      ]
     },
     "execution_count": 30,
     "metadata": {},
     "output_type": "execute_result"
    }
   ],
   "source": [
    "X_train_df.head()"
   ]
  },
  {
   "cell_type": "code",
   "execution_count": 31,
   "id": "ffdbc5a1",
   "metadata": {
    "ExecuteTime": {
     "end_time": "2022-01-05T06:49:06.585001Z",
     "start_time": "2022-01-05T06:49:06.547575Z"
    }
   },
   "outputs": [
    {
     "data": {
      "text/html": [
       "<div>\n",
       "<style scoped>\n",
       "    .dataframe tbody tr th:only-of-type {\n",
       "        vertical-align: middle;\n",
       "    }\n",
       "\n",
       "    .dataframe tbody tr th {\n",
       "        vertical-align: top;\n",
       "    }\n",
       "\n",
       "    .dataframe thead th {\n",
       "        text-align: right;\n",
       "    }\n",
       "</style>\n",
       "<table border=\"1\" class=\"dataframe\">\n",
       "  <thead>\n",
       "    <tr style=\"text-align: right;\">\n",
       "      <th></th>\n",
       "      <th>monthapr</th>\n",
       "      <th>monthaug</th>\n",
       "      <th>monthdec</th>\n",
       "      <th>monthfeb</th>\n",
       "      <th>monthjan</th>\n",
       "      <th>monthjul</th>\n",
       "      <th>monthjun</th>\n",
       "      <th>monthmar</th>\n",
       "      <th>monthmay</th>\n",
       "      <th>monthnov</th>\n",
       "      <th>monthoct</th>\n",
       "      <th>monthsep</th>\n",
       "    </tr>\n",
       "  </thead>\n",
       "  <tbody>\n",
       "    <tr>\n",
       "      <th>0</th>\n",
       "      <td>-0.145287</td>\n",
       "      <td>1.328264</td>\n",
       "      <td>-0.145287</td>\n",
       "      <td>-0.220863</td>\n",
       "      <td>-0.072075</td>\n",
       "      <td>-0.273861</td>\n",
       "      <td>-0.178885</td>\n",
       "      <td>-0.325137</td>\n",
       "      <td>-0.050899</td>\n",
       "      <td>0.0</td>\n",
       "      <td>-0.171042</td>\n",
       "      <td>-0.682575</td>\n",
       "    </tr>\n",
       "    <tr>\n",
       "      <th>1</th>\n",
       "      <td>-0.145287</td>\n",
       "      <td>-0.752862</td>\n",
       "      <td>-0.145287</td>\n",
       "      <td>-0.220863</td>\n",
       "      <td>-0.072075</td>\n",
       "      <td>-0.273861</td>\n",
       "      <td>-0.178885</td>\n",
       "      <td>-0.325137</td>\n",
       "      <td>-0.050899</td>\n",
       "      <td>0.0</td>\n",
       "      <td>-0.171042</td>\n",
       "      <td>1.465040</td>\n",
       "    </tr>\n",
       "    <tr>\n",
       "      <th>2</th>\n",
       "      <td>-0.145287</td>\n",
       "      <td>1.328264</td>\n",
       "      <td>-0.145287</td>\n",
       "      <td>-0.220863</td>\n",
       "      <td>-0.072075</td>\n",
       "      <td>-0.273861</td>\n",
       "      <td>-0.178885</td>\n",
       "      <td>-0.325137</td>\n",
       "      <td>-0.050899</td>\n",
       "      <td>0.0</td>\n",
       "      <td>-0.171042</td>\n",
       "      <td>-0.682575</td>\n",
       "    </tr>\n",
       "    <tr>\n",
       "      <th>3</th>\n",
       "      <td>-0.145287</td>\n",
       "      <td>-0.752862</td>\n",
       "      <td>-0.145287</td>\n",
       "      <td>-0.220863</td>\n",
       "      <td>-0.072075</td>\n",
       "      <td>-0.273861</td>\n",
       "      <td>-0.178885</td>\n",
       "      <td>-0.325137</td>\n",
       "      <td>-0.050899</td>\n",
       "      <td>0.0</td>\n",
       "      <td>5.846522</td>\n",
       "      <td>-0.682575</td>\n",
       "    </tr>\n",
       "    <tr>\n",
       "      <th>4</th>\n",
       "      <td>-0.145287</td>\n",
       "      <td>-0.752862</td>\n",
       "      <td>-0.145287</td>\n",
       "      <td>-0.220863</td>\n",
       "      <td>-0.072075</td>\n",
       "      <td>3.651484</td>\n",
       "      <td>-0.178885</td>\n",
       "      <td>-0.325137</td>\n",
       "      <td>-0.050899</td>\n",
       "      <td>0.0</td>\n",
       "      <td>-0.171042</td>\n",
       "      <td>-0.682575</td>\n",
       "    </tr>\n",
       "  </tbody>\n",
       "</table>\n",
       "</div>"
      ],
      "text/plain": [
       "   monthapr  monthaug  monthdec  monthfeb  monthjan  monthjul  monthjun  \\\n",
       "0 -0.145287  1.328264 -0.145287 -0.220863 -0.072075 -0.273861 -0.178885   \n",
       "1 -0.145287 -0.752862 -0.145287 -0.220863 -0.072075 -0.273861 -0.178885   \n",
       "2 -0.145287  1.328264 -0.145287 -0.220863 -0.072075 -0.273861 -0.178885   \n",
       "3 -0.145287 -0.752862 -0.145287 -0.220863 -0.072075 -0.273861 -0.178885   \n",
       "4 -0.145287 -0.752862 -0.145287 -0.220863 -0.072075  3.651484 -0.178885   \n",
       "\n",
       "   monthmar  monthmay  monthnov  monthoct  monthsep  \n",
       "0 -0.325137 -0.050899       0.0 -0.171042 -0.682575  \n",
       "1 -0.325137 -0.050899       0.0 -0.171042  1.465040  \n",
       "2 -0.325137 -0.050899       0.0 -0.171042 -0.682575  \n",
       "3 -0.325137 -0.050899       0.0  5.846522 -0.682575  \n",
       "4 -0.325137 -0.050899       0.0 -0.171042 -0.682575  "
      ]
     },
     "execution_count": 31,
     "metadata": {},
     "output_type": "execute_result"
    }
   ],
   "source": [
    "X_test_df.head()"
   ]
  },
  {
   "cell_type": "code",
   "execution_count": 32,
   "id": "3bb868cb",
   "metadata": {
    "ExecuteTime": {
     "end_time": "2022-01-05T06:49:29.527944Z",
     "start_time": "2022-01-05T06:49:29.516973Z"
    }
   },
   "outputs": [],
   "source": [
    "svm = SVC(C = 1.0, kernel = 'rbf', gamma = 0.50)"
   ]
  },
  {
   "cell_type": "code",
   "execution_count": 33,
   "id": "25615207",
   "metadata": {
    "ExecuteTime": {
     "end_time": "2022-01-05T06:49:57.971971Z",
     "start_time": "2022-01-05T06:49:57.955684Z"
    }
   },
   "outputs": [
    {
     "data": {
      "text/plain": [
       "SVC(gamma=0.5)"
      ]
     },
     "execution_count": 33,
     "metadata": {},
     "output_type": "execute_result"
    }
   ],
   "source": [
    "svm"
   ]
  },
  {
   "cell_type": "code",
   "execution_count": 34,
   "id": "1cb2e930",
   "metadata": {
    "ExecuteTime": {
     "end_time": "2022-01-05T06:50:14.182751Z",
     "start_time": "2022-01-05T06:50:13.914481Z"
    }
   },
   "outputs": [
    {
     "data": {
      "text/plain": [
       "SVC(gamma=0.5)"
      ]
     },
     "execution_count": 34,
     "metadata": {},
     "output_type": "execute_result"
    }
   ],
   "source": [
    "svm.fit(X_train_df, y_train)"
   ]
  },
  {
   "cell_type": "code",
   "execution_count": 35,
   "id": "4da2321d",
   "metadata": {
    "ExecuteTime": {
     "end_time": "2022-01-05T06:50:37.804979Z",
     "start_time": "2022-01-05T06:50:37.727789Z"
    }
   },
   "outputs": [
    {
     "name": "stdout",
     "output_type": "stream",
     "text": [
      "Acuracy of ##TRAINING DATA ## is: 75.19 out of 100\n"
     ]
    }
   ],
   "source": [
    "print(\"Acuracy of ##TRAINING DATA ## is: {:.2f} out of 100\".format(svm.score(X_train_df, y_train)*100))"
   ]
  },
  {
   "cell_type": "code",
   "execution_count": 36,
   "id": "9f1d3516",
   "metadata": {
    "ExecuteTime": {
     "end_time": "2022-01-05T06:50:52.121693Z",
     "start_time": "2022-01-05T06:50:52.097686Z"
    }
   },
   "outputs": [
    {
     "name": "stdout",
     "output_type": "stream",
     "text": [
      "Accuracy of ## TESTING DATA ## is: 72.31 out of 100\n"
     ]
    }
   ],
   "source": [
    "print(\"Accuracy of ## TESTING DATA ## is: {:.2f} out of 100\".format(svm.score(X_test_df, y_test)*100))"
   ]
  },
  {
   "cell_type": "code",
   "execution_count": 37,
   "id": "7400fa05",
   "metadata": {
    "ExecuteTime": {
     "end_time": "2022-01-05T06:55:44.510664Z",
     "start_time": "2022-01-05T06:55:44.503685Z"
    }
   },
   "outputs": [],
   "source": [
    "svm_indice = svm.support_"
   ]
  },
  {
   "cell_type": "code",
   "execution_count": 38,
   "id": "0d972c69",
   "metadata": {
    "ExecuteTime": {
     "end_time": "2022-01-05T06:57:11.748897Z",
     "start_time": "2022-01-05T06:57:11.724336Z"
    }
   },
   "outputs": [
    {
     "data": {
      "text/plain": [
       "array([  0,   3,   5,   6,   7,  10,  13,  21,  26,  31,  34,  41,  42,\n",
       "        43,  52,  63,  73,  79,  81,  83, 101, 103, 108, 109, 111, 115,\n",
       "       119, 124, 125, 131, 133, 140, 148, 151, 152, 153, 165, 167, 168,\n",
       "       176, 182, 184, 188, 190, 191, 194, 195, 202, 203, 207, 221, 228,\n",
       "       234, 239, 243, 245, 249, 250, 254, 255, 260, 274, 277, 280, 283,\n",
       "       288, 291, 295, 299, 300, 302, 308, 309, 316, 319, 322, 325, 326,\n",
       "       328, 329, 333, 334, 336, 346, 349, 352, 357, 363, 364, 367, 370,\n",
       "       374, 376, 377, 379, 380, 383, 385, 147, 150, 157, 205, 210, 220,\n",
       "       225, 235, 237, 244, 247, 251, 252, 256, 257, 258, 259, 261, 262,\n",
       "       263, 264, 265, 266, 267, 268, 269, 270, 271, 272, 273, 275, 276,\n",
       "       278, 279, 281, 282, 284, 285, 286, 287, 289, 290, 292, 293, 294,\n",
       "       296, 297, 298, 301, 303, 304, 305, 306, 307, 310, 311, 312, 313,\n",
       "       314, 315, 317, 318, 320, 321, 323, 324, 327, 330, 331, 332, 335,\n",
       "       337, 338, 339, 340, 341, 342, 343, 344, 345, 347, 348, 350, 351,\n",
       "       353, 354, 355, 356, 358, 359, 360, 361, 362, 365, 366, 368, 369,\n",
       "       371, 372, 373, 375, 378, 381, 382, 384, 386])"
      ]
     },
     "execution_count": 38,
     "metadata": {},
     "output_type": "execute_result"
    }
   ],
   "source": [
    "svm_indice"
   ]
  },
  {
   "cell_type": "code",
   "execution_count": 39,
   "id": "64966812",
   "metadata": {
    "ExecuteTime": {
     "end_time": "2022-01-05T06:57:42.762739Z",
     "start_time": "2022-01-05T06:57:42.738164Z"
    }
   },
   "outputs": [],
   "source": [
    "support_vectors = svm.support_vectors_"
   ]
  },
  {
   "cell_type": "code",
   "execution_count": 41,
   "id": "9f0e2496",
   "metadata": {
    "ExecuteTime": {
     "end_time": "2022-01-05T06:58:43.328060Z",
     "start_time": "2022-01-05T06:58:43.311684Z"
    }
   },
   "outputs": [
    {
     "data": {
      "text/plain": [
       "array([ 98, 106])"
      ]
     },
     "execution_count": 41,
     "metadata": {},
     "output_type": "execute_result"
    }
   ],
   "source": [
    "svm_class = svm.n_support_\n",
    "svm_class"
   ]
  },
  {
   "cell_type": "code",
   "execution_count": 42,
   "id": "2771513b",
   "metadata": {
    "ExecuteTime": {
     "end_time": "2022-01-05T06:58:55.643161Z",
     "start_time": "2022-01-05T06:58:55.607501Z"
    }
   },
   "outputs": [
    {
     "data": {
      "text/html": [
       "<div>\n",
       "<style scoped>\n",
       "    .dataframe tbody tr th:only-of-type {\n",
       "        vertical-align: middle;\n",
       "    }\n",
       "\n",
       "    .dataframe tbody tr th {\n",
       "        vertical-align: top;\n",
       "    }\n",
       "\n",
       "    .dataframe thead th {\n",
       "        text-align: right;\n",
       "    }\n",
       "</style>\n",
       "<table border=\"1\" class=\"dataframe\">\n",
       "  <thead>\n",
       "    <tr style=\"text-align: right;\">\n",
       "      <th></th>\n",
       "      <th>monthapr</th>\n",
       "      <th>monthaug</th>\n",
       "      <th>monthdec</th>\n",
       "      <th>monthfeb</th>\n",
       "      <th>monthjan</th>\n",
       "      <th>monthjul</th>\n",
       "      <th>monthjun</th>\n",
       "      <th>monthmar</th>\n",
       "      <th>monthmay</th>\n",
       "      <th>monthnov</th>\n",
       "      <th>monthoct</th>\n",
       "      <th>monthsep</th>\n",
       "    </tr>\n",
       "  </thead>\n",
       "  <tbody>\n",
       "    <tr>\n",
       "      <th>385</th>\n",
       "      <td>0</td>\n",
       "      <td>1</td>\n",
       "      <td>0</td>\n",
       "      <td>0</td>\n",
       "      <td>0</td>\n",
       "      <td>0</td>\n",
       "      <td>0</td>\n",
       "      <td>0</td>\n",
       "      <td>0</td>\n",
       "      <td>0</td>\n",
       "      <td>0</td>\n",
       "      <td>0</td>\n",
       "    </tr>\n",
       "    <tr>\n",
       "      <th>462</th>\n",
       "      <td>0</td>\n",
       "      <td>0</td>\n",
       "      <td>0</td>\n",
       "      <td>0</td>\n",
       "      <td>0</td>\n",
       "      <td>0</td>\n",
       "      <td>0</td>\n",
       "      <td>0</td>\n",
       "      <td>0</td>\n",
       "      <td>0</td>\n",
       "      <td>0</td>\n",
       "      <td>1</td>\n",
       "    </tr>\n",
       "    <tr>\n",
       "      <th>345</th>\n",
       "      <td>0</td>\n",
       "      <td>0</td>\n",
       "      <td>0</td>\n",
       "      <td>0</td>\n",
       "      <td>0</td>\n",
       "      <td>0</td>\n",
       "      <td>0</td>\n",
       "      <td>0</td>\n",
       "      <td>0</td>\n",
       "      <td>0</td>\n",
       "      <td>0</td>\n",
       "      <td>1</td>\n",
       "    </tr>\n",
       "    <tr>\n",
       "      <th>438</th>\n",
       "      <td>0</td>\n",
       "      <td>1</td>\n",
       "      <td>0</td>\n",
       "      <td>0</td>\n",
       "      <td>0</td>\n",
       "      <td>0</td>\n",
       "      <td>0</td>\n",
       "      <td>0</td>\n",
       "      <td>0</td>\n",
       "      <td>0</td>\n",
       "      <td>0</td>\n",
       "      <td>0</td>\n",
       "    </tr>\n",
       "    <tr>\n",
       "      <th>84</th>\n",
       "      <td>0</td>\n",
       "      <td>1</td>\n",
       "      <td>0</td>\n",
       "      <td>0</td>\n",
       "      <td>0</td>\n",
       "      <td>0</td>\n",
       "      <td>0</td>\n",
       "      <td>0</td>\n",
       "      <td>0</td>\n",
       "      <td>0</td>\n",
       "      <td>0</td>\n",
       "      <td>0</td>\n",
       "    </tr>\n",
       "    <tr>\n",
       "      <th>...</th>\n",
       "      <td>...</td>\n",
       "      <td>...</td>\n",
       "      <td>...</td>\n",
       "      <td>...</td>\n",
       "      <td>...</td>\n",
       "      <td>...</td>\n",
       "      <td>...</td>\n",
       "      <td>...</td>\n",
       "      <td>...</td>\n",
       "      <td>...</td>\n",
       "      <td>...</td>\n",
       "      <td>...</td>\n",
       "    </tr>\n",
       "    <tr>\n",
       "      <th>85</th>\n",
       "      <td>0</td>\n",
       "      <td>0</td>\n",
       "      <td>0</td>\n",
       "      <td>0</td>\n",
       "      <td>0</td>\n",
       "      <td>0</td>\n",
       "      <td>0</td>\n",
       "      <td>0</td>\n",
       "      <td>0</td>\n",
       "      <td>0</td>\n",
       "      <td>0</td>\n",
       "      <td>1</td>\n",
       "    </tr>\n",
       "    <tr>\n",
       "      <th>199</th>\n",
       "      <td>0</td>\n",
       "      <td>0</td>\n",
       "      <td>0</td>\n",
       "      <td>0</td>\n",
       "      <td>0</td>\n",
       "      <td>0</td>\n",
       "      <td>0</td>\n",
       "      <td>0</td>\n",
       "      <td>0</td>\n",
       "      <td>0</td>\n",
       "      <td>0</td>\n",
       "      <td>1</td>\n",
       "    </tr>\n",
       "    <tr>\n",
       "      <th>156</th>\n",
       "      <td>0</td>\n",
       "      <td>0</td>\n",
       "      <td>0</td>\n",
       "      <td>0</td>\n",
       "      <td>0</td>\n",
       "      <td>0</td>\n",
       "      <td>0</td>\n",
       "      <td>0</td>\n",
       "      <td>0</td>\n",
       "      <td>0</td>\n",
       "      <td>0</td>\n",
       "      <td>1</td>\n",
       "    </tr>\n",
       "    <tr>\n",
       "      <th>384</th>\n",
       "      <td>0</td>\n",
       "      <td>1</td>\n",
       "      <td>0</td>\n",
       "      <td>0</td>\n",
       "      <td>0</td>\n",
       "      <td>0</td>\n",
       "      <td>0</td>\n",
       "      <td>0</td>\n",
       "      <td>0</td>\n",
       "      <td>0</td>\n",
       "      <td>0</td>\n",
       "      <td>0</td>\n",
       "    </tr>\n",
       "    <tr>\n",
       "      <th>456</th>\n",
       "      <td>0</td>\n",
       "      <td>1</td>\n",
       "      <td>0</td>\n",
       "      <td>0</td>\n",
       "      <td>0</td>\n",
       "      <td>0</td>\n",
       "      <td>0</td>\n",
       "      <td>0</td>\n",
       "      <td>0</td>\n",
       "      <td>0</td>\n",
       "      <td>0</td>\n",
       "      <td>0</td>\n",
       "    </tr>\n",
       "  </tbody>\n",
       "</table>\n",
       "<p>387 rows × 12 columns</p>\n",
       "</div>"
      ],
      "text/plain": [
       "     monthapr  monthaug  monthdec  monthfeb  monthjan  monthjul  monthjun  \\\n",
       "385         0         1         0         0         0         0         0   \n",
       "462         0         0         0         0         0         0         0   \n",
       "345         0         0         0         0         0         0         0   \n",
       "438         0         1         0         0         0         0         0   \n",
       "84          0         1         0         0         0         0         0   \n",
       "..        ...       ...       ...       ...       ...       ...       ...   \n",
       "85          0         0         0         0         0         0         0   \n",
       "199         0         0         0         0         0         0         0   \n",
       "156         0         0         0         0         0         0         0   \n",
       "384         0         1         0         0         0         0         0   \n",
       "456         0         1         0         0         0         0         0   \n",
       "\n",
       "     monthmar  monthmay  monthnov  monthoct  monthsep  \n",
       "385         0         0         0         0         0  \n",
       "462         0         0         0         0         1  \n",
       "345         0         0         0         0         1  \n",
       "438         0         0         0         0         0  \n",
       "84          0         0         0         0         0  \n",
       "..        ...       ...       ...       ...       ...  \n",
       "85          0         0         0         0         1  \n",
       "199         0         0         0         0         1  \n",
       "156         0         0         0         0         1  \n",
       "384         0         0         0         0         0  \n",
       "456         0         0         0         0         0  \n",
       "\n",
       "[387 rows x 12 columns]"
      ]
     },
     "execution_count": 42,
     "metadata": {},
     "output_type": "execute_result"
    }
   ],
   "source": [
    "X_train"
   ]
  },
  {
   "cell_type": "code",
   "execution_count": 44,
   "id": "5c7ccc1f",
   "metadata": {
    "ExecuteTime": {
     "end_time": "2022-01-05T06:59:42.527393Z",
     "start_time": "2022-01-05T06:59:42.509318Z"
    }
   },
   "outputs": [
    {
     "data": {
      "text/plain": [
       "array([[0, 1, 0, ..., 0, 0, 0],\n",
       "       [0, 0, 0, ..., 0, 0, 1],\n",
       "       [0, 0, 0, ..., 0, 0, 1],\n",
       "       ...,\n",
       "       [0, 0, 0, ..., 0, 0, 1],\n",
       "       [0, 1, 0, ..., 0, 0, 0],\n",
       "       [0, 1, 0, ..., 0, 0, 0]], dtype=int64)"
      ]
     },
     "execution_count": 44,
     "metadata": {},
     "output_type": "execute_result"
    }
   ],
   "source": [
    "X_train_arr = np.array(X_train)\n",
    "X_train_arr"
   ]
  },
  {
   "cell_type": "code",
   "execution_count": 45,
   "id": "42a68274",
   "metadata": {
    "ExecuteTime": {
     "end_time": "2022-01-05T07:00:19.259037Z",
     "start_time": "2022-01-05T07:00:19.235037Z"
    }
   },
   "outputs": [],
   "source": [
    "y_pred = svm.predict(X_test_df)"
   ]
  },
  {
   "cell_type": "code",
   "execution_count": 47,
   "id": "f2c1ec28",
   "metadata": {
    "ExecuteTime": {
     "end_time": "2022-01-05T07:02:49.883020Z",
     "start_time": "2022-01-05T07:02:49.850665Z"
    }
   },
   "outputs": [
    {
     "data": {
      "text/plain": [
       "array([[ 0, 35],\n",
       "       [ 1, 94]], dtype=int64)"
      ]
     },
     "execution_count": 47,
     "metadata": {},
     "output_type": "execute_result"
    }
   ],
   "source": [
    "confusion_matrix(y_test, y_pred)"
   ]
  },
  {
   "cell_type": "code",
   "execution_count": 50,
   "id": "c2fc5e0e",
   "metadata": {
    "ExecuteTime": {
     "end_time": "2022-01-05T07:04:22.205043Z",
     "start_time": "2022-01-05T07:04:22.186734Z"
    }
   },
   "outputs": [
    {
     "data": {
      "text/plain": [
       "72.3076923076923"
      ]
     },
     "execution_count": 50,
     "metadata": {},
     "output_type": "execute_result"
    }
   ],
   "source": [
    "accuracy_score(y_test, y_pred) * 100"
   ]
  },
  {
   "cell_type": "code",
   "execution_count": 52,
   "id": "43301a61",
   "metadata": {
    "ExecuteTime": {
     "end_time": "2022-01-05T07:05:10.259934Z",
     "start_time": "2022-01-05T07:05:10.239315Z"
    }
   },
   "outputs": [
    {
     "data": {
      "text/plain": [
       "SVC(C=13, gamma=45, kernel='linear', random_state=5)"
      ]
     },
     "execution_count": 52,
     "metadata": {},
     "output_type": "execute_result"
    }
   ],
   "source": [
    "svm = SVC(C = 13, kernel = 'linear', gamma = 45, random_state = 5)\n",
    "svm"
   ]
  },
  {
   "cell_type": "code",
   "execution_count": 53,
   "id": "7ae3b1be",
   "metadata": {
    "ExecuteTime": {
     "end_time": "2022-01-05T07:05:35.005488Z",
     "start_time": "2022-01-05T07:05:34.971306Z"
    }
   },
   "outputs": [
    {
     "data": {
      "text/plain": [
       "SVC(C=13, gamma=45, kernel='linear', random_state=5)"
      ]
     },
     "execution_count": 53,
     "metadata": {},
     "output_type": "execute_result"
    }
   ],
   "source": [
    "svm.fit(X_train_df, y_train)"
   ]
  },
  {
   "cell_type": "code",
   "execution_count": 56,
   "id": "98a474ea",
   "metadata": {
    "ExecuteTime": {
     "end_time": "2022-01-05T07:06:16.342625Z",
     "start_time": "2022-01-05T07:06:16.323987Z"
    }
   },
   "outputs": [
    {
     "data": {
      "text/plain": [
       "array([1, 1, 1, 1, 1, 1, 1, 1, 1, 1, 1, 1, 1, 1, 1, 1, 1, 1, 1, 1, 1, 1,\n",
       "       1, 1, 1, 1, 1, 1, 1, 1, 1, 1, 1, 1, 1, 1, 1, 1, 1, 1, 1, 1, 1, 1,\n",
       "       1, 1, 1, 1, 1, 1, 1, 1, 1, 1, 1, 1, 1, 1, 1, 1, 1, 1, 1, 1, 1, 1,\n",
       "       0, 1, 1, 1, 1, 1, 1, 1, 1, 1, 1, 1, 1, 1, 1, 1, 1, 1, 1, 1, 1, 1,\n",
       "       1, 1, 1, 1, 1, 1, 1, 1, 1, 1, 1, 1, 1, 1, 1, 1, 1, 1, 1, 1, 1, 1,\n",
       "       1, 1, 1, 1, 1, 1, 1, 1, 1, 1, 1, 1, 1, 1, 1, 1, 1, 1, 1, 1],\n",
       "      dtype=uint8)"
      ]
     },
     "execution_count": 56,
     "metadata": {},
     "output_type": "execute_result"
    }
   ],
   "source": [
    "y_pred1 = svm.predict(X_test_df)\n",
    "y_pred1"
   ]
  },
  {
   "cell_type": "code",
   "execution_count": 57,
   "id": "a4374a05",
   "metadata": {
    "ExecuteTime": {
     "end_time": "2022-01-05T07:06:45.813754Z",
     "start_time": "2022-01-05T07:06:45.781272Z"
    }
   },
   "outputs": [
    {
     "name": "stdout",
     "output_type": "stream",
     "text": [
      "Acuracy of ##TRAINING DATA ## is: 75.19 out of 100\n"
     ]
    }
   ],
   "source": [
    "print(\"Acuracy of ##TRAINING DATA ## is: {:.2f} out of 100\".format(svm.score(X_train_df, y_train)*100))"
   ]
  },
  {
   "cell_type": "code",
   "execution_count": 58,
   "id": "e4639245",
   "metadata": {
    "ExecuteTime": {
     "end_time": "2022-01-05T07:07:07.957943Z",
     "start_time": "2022-01-05T07:07:07.933940Z"
    }
   },
   "outputs": [
    {
     "name": "stdout",
     "output_type": "stream",
     "text": [
      "Accuracy of ## TESTING DATA ## is: 72.31 out of 100\n"
     ]
    }
   ],
   "source": [
    "print(\"Accuracy of ## TESTING DATA ## is: {:.2f} out of 100\".format(svm.score(X_test_df, y_test)*100))"
   ]
  },
  {
   "cell_type": "code",
   "execution_count": 60,
   "id": "41ac95f8",
   "metadata": {
    "ExecuteTime": {
     "end_time": "2022-01-05T07:07:29.404873Z",
     "start_time": "2022-01-05T07:07:29.383846Z"
    }
   },
   "outputs": [
    {
     "data": {
      "text/plain": [
       "array([[ 0, 35],\n",
       "       [ 1, 94]], dtype=int64)"
      ]
     },
     "execution_count": 60,
     "metadata": {},
     "output_type": "execute_result"
    }
   ],
   "source": [
    "confusion_matrix(y_test, y_pred1)"
   ]
  },
  {
   "cell_type": "code",
   "execution_count": 61,
   "id": "2374ecd8",
   "metadata": {
    "ExecuteTime": {
     "end_time": "2022-01-05T07:07:58.966523Z",
     "start_time": "2022-01-05T07:07:58.942526Z"
    }
   },
   "outputs": [
    {
     "data": {
      "text/plain": [
       "254    0\n",
       "408    0\n",
       "235    0\n",
       "128    1\n",
       "435    1\n",
       "      ..\n",
       "477    0\n",
       "496    1\n",
       "314    1\n",
       "158    1\n",
       "349    1\n",
       "Name: small, Length: 130, dtype: uint8"
      ]
     },
     "execution_count": 61,
     "metadata": {},
     "output_type": "execute_result"
    }
   ],
   "source": [
    "y_test"
   ]
  },
  {
   "cell_type": "code",
   "execution_count": 63,
   "id": "ca82d106",
   "metadata": {
    "ExecuteTime": {
     "end_time": "2022-01-05T07:08:14.826509Z",
     "start_time": "2022-01-05T07:08:14.802510Z"
    }
   },
   "outputs": [
    {
     "data": {
      "text/plain": [
       "72.3076923076923"
      ]
     },
     "execution_count": 63,
     "metadata": {},
     "output_type": "execute_result"
    }
   ],
   "source": [
    "accuracy_score(y_pred1, y_test) * 100"
   ]
  },
  {
   "cell_type": "code",
   "execution_count": null,
   "id": "8f8b12fa",
   "metadata": {},
   "outputs": [],
   "source": []
  }
 ],
 "metadata": {
  "kernelspec": {
   "display_name": "Python 3 (ipykernel)",
   "language": "python",
   "name": "python3"
  },
  "language_info": {
   "codemirror_mode": {
    "name": "ipython",
    "version": 3
   },
   "file_extension": ".py",
   "mimetype": "text/x-python",
   "name": "python",
   "nbconvert_exporter": "python",
   "pygments_lexer": "ipython3",
   "version": "3.9.7"
  }
 },
 "nbformat": 4,
 "nbformat_minor": 5
}
